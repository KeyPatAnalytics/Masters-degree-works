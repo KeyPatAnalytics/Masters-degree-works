{
 "cells": [
  {
   "cell_type": "code",
   "execution_count": 1,
   "metadata": {},
   "outputs": [],
   "source": [
    "import binascii\n",
    "import random, string"
   ]
  },
  {
   "cell_type": "code",
   "execution_count": 4,
   "metadata": {},
   "outputs": [
    {
     "name": "stdout",
     "output_type": "stream",
     "text": [
      "Please enter the text you want to encode:\n",
      "Happy new year, friends!\n",
      "Key  [\"b'74'\", \"b'50'\", \"b'67'\", \"b'64'\", \"b'45'\", \"b'6c'\", \"b'75'\", \"b'48'\", \"b'72'\", \"b'65'\", \"b'34'\", \"b'30'\", \"b'51'\", \"b'68'\", \"b'6e'\", \"b'6b'\", \"b'39'\", \"b'71'\", \"b'46'\", \"b'47'\", \"b'49'\", \"b'62'\", \"b'57'\", \"b'65'\"]\n",
      "Encoding  ['3c', '31', '17', '14', '3c', '4c', '1b', '2d', '5', '45', '4d', '55', '30', '1a', '42', '4b', '5f', '3', '2f', '22', '27', '6', '24', '44']\n"
     ]
    }
   ],
   "source": [
    "text = input(\"Please enter the text you want to encode:\\n\")\n",
    "arr_text = []\n",
    "for i in text:\n",
    "    arr_text.append(binascii.b2a_hex(i.encode('utf-8')))\n",
    "key=''.join(random.choice(string.ascii_uppercase + string.ascii_lowercase + string.digits) for _ in range(len(arr_text)))\n",
    "encoding = []\n",
    "keys = []\n",
    "\n",
    "for j,i in enumerate(arr_text):\n",
    "    key_1 = binascii.b2a_hex(key[j].encode('utf-8'))\n",
    "    keys.append(key_1)\n",
    "    encoding.append('%x'%(int(i,16)^int(key_1,16)))\n",
    "print(\"Key \",list(map(str,keys)))\n",
    "print(\"Encoding \",encoding)"
   ]
  },
  {
   "cell_type": "code",
   "execution_count": null,
   "metadata": {},
   "outputs": [],
   "source": [
    "encoding = input(\"Please enter the encoding: \\n\").split(' ')\n",
    "keys = input(\"Now enter the key: \\n\").split(' ')\n",
    "decoding = []\n",
    "text = ''\n",
    "for j,i in enumerate(encoding):\n",
    "    text += '%x' % (int(i,16)^int(keys[j],16))\n",
    "print(str(binascii.a2b_hex(text.encode('utf-8'))))"
   ]
  },
  {
   "cell_type": "code",
   "execution_count": null,
   "metadata": {},
   "outputs": [],
   "source": []
  }
 ],
 "metadata": {
  "kernelspec": {
   "display_name": "Python 3 (ipykernel)",
   "language": "python",
   "name": "python3"
  },
  "language_info": {
   "codemirror_mode": {
    "name": "ipython",
    "version": 3
   },
   "file_extension": ".py",
   "mimetype": "text/x-python",
   "name": "python",
   "nbconvert_exporter": "python",
   "pygments_lexer": "ipython3",
   "version": "3.8.5"
  }
 },
 "nbformat": 4,
 "nbformat_minor": 2
}
