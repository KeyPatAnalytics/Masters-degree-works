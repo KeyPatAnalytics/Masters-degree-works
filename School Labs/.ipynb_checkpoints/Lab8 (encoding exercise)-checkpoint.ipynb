{
 "cells": [
  {
   "cell_type": "code",
   "execution_count": 1,
   "metadata": {},
   "outputs": [],
   "source": [
    "import binascii"
   ]
  },
  {
   "cell_type": "code",
   "execution_count": 7,
   "metadata": {},
   "outputs": [
    {
     "name": "stdout",
     "output_type": "stream",
     "text": [
      "Enter the key:\n",
      "2a b1 f2 c3\n",
      "Enter the 1st word:\n",
      "rudn\n",
      "Enter the 2nd word:\n",
      "pfur\n",
      "p f u r\n",
      "r u d n\n"
     ]
    }
   ],
   "source": [
    "key = input(\"Enter the key:\\n\").split(' ')\n",
    "key = [int('0x'+i,16) for i in key]\n",
    "len_word = len(key)\n",
    "\n",
    "word1 = input(\"Enter the 1st word:\\n\")\n",
    "word1 = [ord(c) for c in word1]\n",
    "\n",
    "if len(word1) != len_word:\n",
    "    print(\"The lengths of the key and of the word are not equal!\")\n",
    "\n",
    "word2 = input(\"Enter the 2nd word:\\n\")\n",
    "word2 = [ord(c) for c in word2]\n",
    "\n",
    "if len(word2) != len_word:\n",
    "    print(\"The lengths of the key and of the word are not equal!\")\n",
    "    \n",
    "ans1 =  [key[c]^word1[c] for c in range(len_word)]\n",
    "ans2 =  [key[c]^word2[c] for c in range(len_word)]\n",
    "ans = [ans1[c]^ans2[c] for c in range(len_word)]\n",
    "p1 = [ans[c]^word1[c] for c in range(len_word)]\n",
    "p2 = [ans[c]^word2[c] for c in range(len_word)]\n",
    "\n",
    "print(' '.join([chr(p1[i]) for i in range(len_word)]))\n",
    "print(' '.join([chr(p2[i]) for i in range(len_word)]))\n",
    "    \n",
    "    "
   ]
  },
  {
   "cell_type": "code",
   "execution_count": null,
   "metadata": {},
   "outputs": [],
   "source": []
  }
 ],
 "metadata": {
  "kernelspec": {
   "display_name": "Python 3 (ipykernel)",
   "language": "python",
   "name": "python3"
  },
  "language_info": {
   "codemirror_mode": {
    "name": "ipython",
    "version": 3
   },
   "file_extension": ".py",
   "mimetype": "text/x-python",
   "name": "python",
   "nbconvert_exporter": "python",
   "pygments_lexer": "ipython3",
   "version": "3.8.5"
  }
 },
 "nbformat": 4,
 "nbformat_minor": 2
}
