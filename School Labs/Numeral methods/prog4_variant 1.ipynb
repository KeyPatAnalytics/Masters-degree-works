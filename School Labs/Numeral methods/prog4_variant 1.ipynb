{
 "cells": [
  {
   "cell_type": "code",
   "execution_count": 2,
   "metadata": {},
   "outputs": [],
   "source": [
    "import numpy as np\n",
    "import matplotlib.pyplot as plt\n",
    "\n",
    "%matplotlib inline"
   ]
  },
  {
   "cell_type": "code",
   "execution_count": 3,
   "metadata": {},
   "outputs": [],
   "source": [
    "# N_max - максимальное кол-во итераций \n",
    "# f - данная функция\n",
    "# df - производная данной функции; \n",
    "\n",
    "\n",
    "def Newton(f, df, x0, tolerance=1e-10, verbose=False, N_max=100):\n",
    "    ### your solution is here\n",
    "    error = 100\n",
    "    i = 0\n",
    "    while error > tolerance and i < N_max:\n",
    "        x0 -= f(x0) / df(x0)\n",
    "        error = abs(f(x0))\n",
    "        i += 1\n",
    "        if verbose:\n",
    "            print(f'Iteration {i}, error = {error:.2}, x = {x0:.8}.')\n",
    "    return x0"
   ]
  },
  {
   "cell_type": "code",
   "execution_count": 13,
   "metadata": {},
   "outputs": [
    {
     "name": "stdout",
     "output_type": "stream",
     "text": [
      "Iteration 1, error = 8e+01, x = 3.0039062.\n",
      "Iteration 2, error = 2.5e+01, x = 2.2621529.\n",
      "Iteration 3, error = 7.7, x = 1.7182107.\n",
      "Iteration 4, error = 2.2, x = 1.3379426.\n",
      "Iteration 5, error = 0.51, x = 1.1078394.\n",
      "Iteration 6, error = 0.06, x = 1.014749.\n",
      "Iteration 7, error = 0.0013, x = 1.0003185.\n",
      "Iteration 8, error = 6.1e-07, x = 1.0000002.\n",
      "Iteration 9, error = 1.4e-13, x = 1.0.\n",
      "\n",
      "\n"
     ]
    }
   ],
   "source": [
    "f = lambda z: z**4 -1\n",
    "df = lambda z: 4*z**3\n",
    "\n",
    "Newton(f, df, 4, tolerance=1e-10, verbose=True)\n",
    "print('\\n')\n"
   ]
  },
  {
   "cell_type": "code",
   "execution_count": 14,
   "metadata": {},
   "outputs": [
    {
     "name": "stderr",
     "output_type": "stream",
     "text": [
      "C:\\Users\\patat\\Anaconda3\\lib\\site-packages\\ipykernel_launcher.py:13: RuntimeWarning: overflow encountered in cos\n",
      "  del sys.path[0]\n",
      "C:\\Users\\patat\\Anaconda3\\lib\\site-packages\\ipykernel_launcher.py:13: RuntimeWarning: invalid value encountered in multiply\n",
      "  del sys.path[0]\n"
     ]
    },
    {
     "data": {
      "image/png": "[encoded data removed]",
      "text/plain": [
       "<Figure size 720x720 with 1 Axes>"
      ]
     },
     "metadata": {
      "needs_background": "light"
     },
     "output_type": "display_data"
    }
   ],
   "source": [
    "N = 1000\n",
    "t = np.linspace(-1, 1, N)\n",
    "x, y = np.meshgrid(t, t)\n",
    "x = x.reshape(-1,)\n",
    "y = y.reshape(-1,)\n",
    "z = x + 1j*y\n",
    "\n",
    "points = []\n",
    "for p in z:\n",
    "    solution = Newton(f, df, p)\n",
    "    points.append(solution)\n",
    "points = np.hstack(points).reshape(N, N)\n",
    "points = np.real(np.cos(points)*np.sin(np.imag(points)))\n",
    "\n",
    "fig, ax = plt.subplots(1, 1, figsize=(10, 10))\n",
    "ax.imshow(points, cmap='inferno')\n",
    "ax.axis('off');\n"
   ]
  },
  {
   "cell_type": "code",
   "execution_count": null,
   "metadata": {},
   "outputs": [],
   "source": []
  },
  {
   "cell_type": "code",
   "execution_count": null,
   "metadata": {},
   "outputs": [],
   "source": []
  }
 ],
 "metadata": {
  "kernelspec": {
   "display_name": "Python 3",
   "language": "python",
   "name": "python3"
  },
  "language_info": {
   "codemirror_mode": {
    "name": "ipython",
    "version": 3
   },
   "file_extension": ".py",
   "mimetype": "text/x-python",
   "name": "python",
   "nbconvert_exporter": "python",
   "pygments_lexer": "ipython3",
   "version": "3.7.4"
  }
 },
 "nbformat": 4,
 "nbformat_minor": 4
}
