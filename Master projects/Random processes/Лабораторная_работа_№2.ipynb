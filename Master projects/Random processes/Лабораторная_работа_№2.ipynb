{
 "cells": [
  {
   "cell_type": "code",
   "execution_count": null,
   "metadata": {
    "id": "Qu-X3nvLENZg"
   },
   "outputs": [],
   "source": [
    "import numpy as np\n",
    "from scipy.stats import gamma, expon, weibull_min\n",
    "import matplotlib.pyplot as plt"
   ]
  },
  {
   "cell_type": "markdown",
   "metadata": {
    "id": "O_9xt8-gFOaC"
   },
   "source": [
    "# Моделирование"
   ]
  },
  {
   "cell_type": "code",
   "execution_count": null,
   "metadata": {
    "id": "ucf4USl4EiLp"
   },
   "outputs": [],
   "source": [
    "#(@@@@ PARAMETERS @@@@)\n",
    "\n",
    "# Weibull distribution\n",
    "w_lambda = 1\n",
    "w_k = 2\n",
    "\n",
    "# Exponential distribution\n",
    "exp_lambda = 1\n",
    "\n",
    "# Gamma distribution\n",
    "gamma_alpha = 2\n",
    "gamma_beta = 1\n",
    "\n",
    "# Experience time\n",
    "T = 1000"
   ]
  },
  {
   "cell_type": "code",
   "execution_count": null,
   "metadata": {
    "id": "GjDvSqiKGkt0"
   },
   "outputs": [],
   "source": [
    "# VARIABLES\n",
    "state_history = []\n",
    "switch_time_track =[]\n",
    "\n",
    "average_time_state0 = []\n",
    "average_time_state1 = []\n",
    "average_time_state2 = []\n",
    "\n",
    "total_time_spent_state0 = 0\n",
    "total_time_spent_state1 = 0\n",
    "total_time_spent_state2 = 0\n",
    "\n",
    "count_state0 = 0\n",
    "count_state1 = 0\n",
    "count_state2 = 0\n",
    "\n",
    "switch_01 = 0\n",
    "switch_10 = 0\n",
    "switch_12 = 0\n",
    "switch_20 = 0"
   ]
  },
  {
   "cell_type": "code",
   "execution_count": null,
   "metadata": {
    "id": "rgUiXbyjP720"
   },
   "outputs": [],
   "source": [
    "state = 0 # В начале мы в состоянии 0\n",
    "switch_time_track.append(0)\n",
    "\n",
    "current_time = 0 # Чтобы следовать за времени\n",
    "\n",
    "while current_time < T:\n",
    "   #state = 0\n",
    "    count_state0 += 1\n",
    "    state_history.append(0)\n",
    "\n",
    "    A01 = weibull_min.rvs(w_k,loc=0,scale=w_lambda)\n",
    "\n",
    "    average_time_state0.append(A01)\n",
    "    total_time_spent_state0 += A01\n",
    "    current_time += A01\n",
    "    switch_01 += 1\n",
    "    switch_time_track.append(current_time)\n",
    "    \n",
    "    #state = 1\n",
    "    count_state1 += 1\n",
    "    state_history.append(1)\n",
    "\n",
    "    A12 = weibull_min.rvs(w_k,loc=0,scale=w_lambda)\n",
    "    B = expon.rvs(loc=0,scale=1/exp_lambda)\n",
    "\n",
    "    average_time_state1.append(min(A12,B))\n",
    "    total_time_spent_state1 += min(A12,B)\n",
    "    current_time += min(A12,B)\n",
    "    switch_time_track.append(current_time)\n",
    "\n",
    "\n",
    "    if B <= A12:\n",
    "          switch_10 += 1\n",
    "      #state = 0\n",
    "    else:\n",
    "        switch_12 += 1\n",
    "\n",
    "        #state = 2\n",
    "        count_state2 += 1\n",
    "        state_history.append(2)\n",
    "\n",
    "        C = gamma.rvs(gamma_alpha,loc=0,scale=1/gamma_beta)\n",
    "\n",
    "        average_time_state2.append(C)\n",
    "        total_time_spent_state2 += C\n",
    "        current_time += C\n",
    "        switch_20 += 1\n",
    "        switch_time_track.append(current_time)\n",
    "        #state = 0\n",
    "state_history.append(0)"
   ]
  },
  {
   "cell_type": "code",
   "execution_count": null,
   "metadata": {
    "id": "pWpAhHxQV63L"
   },
   "outputs": [],
   "source": [
    "state_history = np.array(state_history)\n",
    "switch_time_track = np.array(switch_time_track)"
   ]
  },
  {
   "cell_type": "code",
   "execution_count": null,
   "metadata": {
    "colab": {
     "base_uri": "https://localhost:8080/"
    },
    "id": "VxcOI8E5V-Q7",
    "outputId": "0795c6d0-61ce-4e86-970c-8857a3f2a492"
   },
   "outputs": [
    {
     "data": {
      "text/plain": [
       "array([ 0.        ,  1.29171571,  1.30409577,  1.59095901,  2.16410151,\n",
       "        5.97161596,  7.02104015,  7.62021975, 10.26863791, 11.00928723,\n",
       "       11.55838282, 12.42574725, 12.5172795 , 13.13250954, 14.43793737,\n",
       "       15.4687787 , 17.97199751, 19.16050926, 19.63441401, 20.38066391])"
      ]
     },
     "execution_count": 39,
     "metadata": {},
     "output_type": "execute_result"
    }
   ],
   "source": [
    "switch_time_track[:20]"
   ]
  },
  {
   "cell_type": "code",
   "execution_count": null,
   "metadata": {
    "colab": {
     "base_uri": "https://localhost:8080/",
     "height": 403
    },
    "id": "kmxuMq29EVOL",
    "outputId": "37a9d84c-78f2-4dd9-d07a-10e5193bc7fe"
   },
   "outputs": [
    {
     "data": {
      "image/png": "[encoded data removed]",
      "text/plain": [
       "<Figure size 576x432 with 1 Axes>"
      ]
     },
     "metadata": {
      "needs_background": "light"
     },
     "output_type": "display_data"
    }
   ],
   "source": [
    "plt.figure(figsize=(8,6))\n",
    "plt.step(switch_time_track[switch_time_track<10],state_history[switch_time_track<10],where='post')\n",
    "plt.xlabel(\"Время, t\")\n",
    "plt.ylabel(\"Состояния\")\n",
    "plt.title(\"Траектория работы усторойва на T = [0,10]\")\n",
    "plt.xticks(np.arange(11))\n",
    "plt.yticks(np.arange(3))\n",
    "plt.show()"
   ]
  },
  {
   "cell_type": "code",
   "execution_count": null,
   "metadata": {
    "colab": {
     "base_uri": "https://localhost:8080/"
    },
    "id": "lr6JAsOmFVCz",
    "outputId": "c9ba6a12-5ae7-4503-d8d8-cfb293683494"
   },
   "outputs": [
    {
     "name": "stdout",
     "output_type": "stream",
     "text": [
      "Среднее время пребывания в состояния 0:  0.8889347283250006\n",
      "Среднее время пребывания в состояния 1:  0.5799280624135285\n",
      "Среднее время пребывания в состояния 2:  2.011315194957148\n"
     ]
    }
   ],
   "source": [
    "print(\"Среднее время пребывания в состояния 0: \",np.mean(average_time_state0))\n",
    "print(\"Среднее время пребывания в состояния 1: \",np.mean(average_time_state1))\n",
    "print(\"Среднее время пребывания в состояния 2: \",np.mean(average_time_state2))"
   ]
  },
  {
   "cell_type": "code",
   "execution_count": null,
   "metadata": {
    "colab": {
     "base_uri": "https://localhost:8080/"
    },
    "id": "W0nqKCodO-0S",
    "outputId": "88645880-73c2-485e-eb8a-8d64d076af25"
   },
   "outputs": [
    {
     "name": "stdout",
     "output_type": "stream",
     "text": [
      "Вероятность p01:  1.0\n",
      "Вероятность p10:  0.5288461538461539\n",
      "Вероятность p12:  0.47115384615384615\n",
      "Вероятность p20:  1.0\n"
     ]
    }
   ],
   "source": [
    "print(\"Вероятность p01: \",switch_01/count_state0)\n",
    "print(\"Вероятность p10: \",switch_10/count_state1)\n",
    "print(\"Вероятность p12: \",switch_12/count_state1)\n",
    "print(\"Вероятность p20: \",switch_20/count_state2)"
   ]
  },
  {
   "cell_type": "code",
   "execution_count": null,
   "metadata": {
    "colab": {
     "base_uri": "https://localhost:8080/"
    },
    "id": "Xqf8y-1dR9Rg",
    "outputId": "da6b5054-b226-4d15-d452-9da9ddb1c37d"
   },
   "outputs": [
    {
     "name": "stdout",
     "output_type": "stream",
     "text": [
      "Вероятность pi_0:  0.36979684698320014\n",
      "Вероятность pi_1:  0.24125007396402798\n",
      "Вероятность pi_2:  0.3942177782116008\n"
     ]
    }
   ],
   "source": [
    "print(\"Вероятность pi_0: \",total_time_spent_state0/T)\n",
    "print(\"Вероятность pi_1: \",total_time_spent_state1/T)\n",
    "print(\"Вероятность pi_2: \",total_time_spent_state2/T)"
   ]
  },
  {
   "cell_type": "code",
   "execution_count": null,
   "metadata": {
    "id": "6oJdbBV9UXkk"
   },
   "outputs": [],
   "source": [
    "A5 = 25*np.sqrt(np.pi) / 2\n",
    "C5 = 2\n",
    "rho = np.linspace(0.01,10,500)\n",
    "B5 = A5 / rho - C5"
   ]
  },
  {
   "cell_type": "code",
   "execution_count": null,
   "metadata": {
    "colab": {
     "base_uri": "https://localhost:8080/"
    },
    "id": "IdmOZ9kl5gV7",
    "outputId": "e8aa2caa-9be1-4017-b7f3-0f6175afebd6"
   },
   "outputs": [
    {
     "data": {
      "text/plain": [
       "array([2.21356731e+03, 3.66028293e+02, 1.98681791e+02, 1.35953034e+02,\n",
       "       1.03100809e+02, 8.28860022e+01, 6.91929429e+01, 5.93039343e+01,\n",
       "       5.18271146e+01, 4.59758319e+01, 4.12719497e+01, 3.74081065e+01,\n",
       "       3.41777218e+01, 3.14368190e+01, 2.90819806e+01, 2.70370058e+01,\n",
       "       2.52445094e+01, 2.36604525e+01, 2.22504755e+01, 2.09873772e+01,\n",
       "       1.98493431e+01, 1.88186748e+01, 1.78808628e+01, 1.70238995e+01,\n",
       "       1.62377620e+01, 1.55140182e+01, 1.48455238e+01, 1.42261849e+01,\n",
       "       1.36507719e+01, 1.31147719e+01, 1.26142695e+01, 1.21458514e+01,\n",
       "       1.17065283e+01, 1.12936711e+01, 1.09049582e+01, 1.05383317e+01,\n",
       "       1.01919613e+01, 9.86421332e+00, 9.55362531e+00, 9.25888395e+00,\n",
       "       8.97880663e+00, 8.71232556e+00, 8.45847417e+00, 8.21637537e+00,\n",
       "       7.98523147e+00, 7.76431535e+00, 7.55296287e+00, 7.35056616e+00,\n",
       "       7.15656778e+00, 6.97045565e+00, 6.79175847e+00, 6.62004175e+00,\n",
       "       6.45490432e+00, 6.29597515e+00, 6.14291062e+00, 5.99539198e+00,\n",
       "       5.85312319e+00, 5.71582891e+00, 5.58325270e+00, 5.45515549e+00,\n",
       "       5.33131405e+00, 5.21151977e+00, 5.09557744e+00, 4.98330422e+00,\n",
       "       4.87452866e+00, 4.76908981e+00, 4.66683646e+00, 4.56762640e+00,\n",
       "       4.47132576e+00, 4.37780841e+00, 4.28695540e+00, 4.19865447e+00,\n",
       "       4.11279958e+00, 4.02929048e+00, 3.94803232e+00, 3.86893530e+00,\n",
       "       3.79191434e+00, 3.71688877e+00, 3.64378202e+00, 3.57252143e+00,\n",
       "       3.50303792e+00, 3.43526585e+00, 3.36914275e+00, 3.30460917e+00,\n",
       "       3.24160846e+00, 3.18008665e+00, 3.11999228e+00, 3.06127624e+00,\n",
       "       3.00389163e+00, 2.94779369e+00, 2.89293961e+00, 2.83928849e+00,\n",
       "       2.78680117e+00, 2.73544020e+00, 2.68516971e+00, 2.63595533e+00,\n",
       "       2.58776412e+00, 2.54056451e+00, 2.49432621e+00, 2.44902014e+00,\n",
       "       2.40461838e+00, 2.36109414e+00, 2.31842165e+00, 2.27657616e+00,\n",
       "       2.23553384e+00, 2.19527181e+00, 2.15576801e+00, 2.11700123e+00,\n",
       "       2.07895103e+00, 2.04159772e+00, 2.00492234e+00, 1.96890659e+00,\n",
       "       1.93353284e+00, 1.89878407e+00, 1.86464387e+00, 1.83109638e+00,\n",
       "       1.79812630e+00, 1.76571886e+00, 1.73385977e+00, 1.70253523e+00,\n",
       "       1.67173190e+00, 1.64143689e+00, 1.61163770e+00, 1.58232227e+00,\n",
       "       1.55347891e+00, 1.52509631e+00, 1.49716351e+00, 1.46966991e+00,\n",
       "       1.44260524e+00, 1.41595952e+00, 1.38972311e+00, 1.36388665e+00,\n",
       "       1.33844106e+00, 1.31337754e+00, 1.28868754e+00, 1.26436279e+00,\n",
       "       1.24039522e+00, 1.21677705e+00, 1.19350067e+00, 1.17055872e+00,\n",
       "       1.14794405e+00, 1.12564970e+00, 1.10366892e+00, 1.08199513e+00,\n",
       "       1.06062195e+00, 1.03954317e+00, 1.01875275e+00, 9.98244807e-01,\n",
       "       9.78013626e-01, 9.58053642e-01, 9.38359439e-01, 9.18925742e-01,\n",
       "       8.99747416e-01, 8.80819462e-01, 8.62137008e-01, 8.43695309e-01,\n",
       "       8.25489739e-01, 8.07515795e-01, 7.89769082e-01, 7.72245318e-01,\n",
       "       7.54940330e-01, 7.37850044e-01, 7.20970491e-01, 7.04297796e-01,\n",
       "       6.87828179e-01, 6.71557954e-01, 6.55483521e-01, 6.39601366e-01,\n",
       "       6.23908061e-01, 6.08400257e-01, 5.93074684e-01, 5.77928149e-01,\n",
       "       5.62957532e-01, 5.48159788e-01, 5.33531937e-01, 5.19071073e-01,\n",
       "       5.04774350e-01, 4.90638991e-01, 4.76662278e-01, 4.62841556e-01,\n",
       "       4.49174228e-01, 4.35657755e-01, 4.22289651e-01, 4.09067488e-01,\n",
       "       3.95988889e-01, 3.83051528e-01, 3.70253130e-01, 3.57591467e-01,\n",
       "       3.45064360e-01, 3.32669676e-01, 3.20405325e-01, 3.08269263e-01,\n",
       "       2.96259487e-01, 2.84374037e-01, 2.72610992e-01, 2.60968469e-01,\n",
       "       2.49444628e-01, 2.38037662e-01, 2.26745801e-01, 2.15567314e-01])"
      ]
     },
     "execution_count": 65,
     "metadata": {},
     "output_type": "execute_result"
    }
   ],
   "source": [
    "B5"
   ]
  },
  {
   "cell_type": "code",
   "execution_count": null,
   "metadata": {
    "id": "LTF4EmlqlH9L"
   },
   "outputs": [],
   "source": [
    "def prob_pi2(expo_B):\n",
    "    current_time, time_state2 = 0, 0\n",
    "    while current_time < 100000:      \n",
    "        A01 = weibull_min.rvs(w_k,loc=0,scale=25)\n",
    "        current_time += A01\n",
    "\n",
    "        #state = 1\n",
    "        A12 = weibull_min.rvs(w_k,loc=0,scale=25)\n",
    "        B = expon.rvs(loc=0,scale=expo_B)\n",
    "        current_time += min(A12,B)\n",
    "\n",
    "        if A12 < B:\n",
    "            #state = 2\n",
    "            C = gamma.rvs(gamma_alpha,loc=0,scale=1/gamma_beta)\n",
    "            time_state2 += C\n",
    "            current_time += C\n",
    "    return time_state2 / current_time"
   ]
  },
  {
   "cell_type": "code",
   "execution_count": null,
   "metadata": {
    "colab": {
     "base_uri": "https://localhost:8080/"
    },
    "id": "BdDb-WetEQAm",
    "outputId": "da69871e-3909-4bbe-ed8e-ebfcdf7fc2f8"
   },
   "outputs": [
    {
     "data": {
      "text/plain": [
       "0.0003782218576500537"
      ]
     },
     "execution_count": 74,
     "metadata": {},
     "output_type": "execute_result"
    }
   ],
   "source": [
    "prob_pi2(1)"
   ]
  },
  {
   "cell_type": "code",
   "execution_count": null,
   "metadata": {
    "id": "P3C8sRhu3rac"
   },
   "outputs": [],
   "source": [
    "pi2 = [prob_pi2(exp_mean_B) for exp_mean_B in B5]"
   ]
  },
  {
   "cell_type": "code",
   "execution_count": null,
   "metadata": {
    "colab": {
     "base_uri": "https://localhost:8080/",
     "height": 403
    },
    "id": "QvSuGZcMyKAm",
    "outputId": "2c1872f9-a9bf-4ff0-a8c8-7e91983a4312"
   },
   "outputs": [
    {
     "data": {
      "image/png": "[encoded data removed]",
      "text/plain": [
       "<Figure size 576x432 with 1 Axes>"
      ]
     },
     "metadata": {
      "needs_background": "light"
     },
     "output_type": "display_data"
    }
   ],
   "source": [
    "plt.figure(figsize=(8,6))\n",
    "plt.plot(rho,1-np.array(pi2))\n",
    "plt.xlabel(\"rho\")\n",
    "plt.xticks([0,2,4,6,8,10])\n",
    "#plt.yticks([0, 0.2, 0.5,0.8,1])\n",
    "plt.title(\"Вероятность безотказной работы\")\n",
    "plt.show()"
   ]
  },
  {
   "cell_type": "code",
   "execution_count": null,
   "metadata": {
    "colab": {
     "base_uri": "https://localhost:8080/",
     "height": 422
    },
    "id": "FgYshJQxrT4S",
    "outputId": "15072d50-9f37-4459-dde3-cbc500560738"
   },
   "outputs": [
    {
     "data": {
      "text/plain": [
       "Text(0.5, 1.0, 'Вероятность безотказной работы')"
      ]
     },
     "execution_count": 127,
     "metadata": {},
     "output_type": "execute_result"
    },
    {
     "data": {
      "image/png": "[encoded data removed]",
      "text/plain": [
       "<Figure size 576x432 with 1 Axes>"
      ]
     },
     "metadata": {
      "needs_background": "light"
     },
     "output_type": "display_data"
    }
   ],
   "source": [
    "plt.figure(figsize=(8,6))\n",
    "plt.plot(rho,1-np.array(pi2))\n",
    "plt.xlabel(\"rho\")\n",
    "plt.xticks([0,2,4,6,8,10])\n",
    "plt.yticks([0, 0.2, 0.5,0.8,1])\n",
    "plt.title(\"Вероятность безотказной работы\")\n",
    "plt.show()"
   ]
  },
  {
   "cell_type": "code",
   "execution_count": null,
   "metadata": {
    "colab": {
     "base_uri": "https://localhost:8080/"
    },
    "id": "fD6tSAA8rV0s",
    "outputId": "d0a245dd-1fab-4968-e802-accc52766056"
   },
   "outputs": [
    {
     "data": {
      "text/plain": [
       "array([1.77145385e+03, 1.58811413e+02, 8.26780788e+01, 5.56773034e+01,\n",
       "       4.18505327e+01, 3.34469830e+01, 2.77991025e+01, 2.37423761e+01,\n",
       "       2.06874220e+01, 1.83039528e+01, 1.63924999e+01, 1.48254808e+01,\n",
       "       1.35174924e+01, 1.24092107e+01, 1.14581421e+01, 1.06330503e+01,\n",
       "       9.91046019e+00, 9.27238797e+00, 8.70482447e+00, 8.19669451e+00,\n",
       "       7.73912701e+00, 7.32493269e+00, 6.94822355e+00, 6.60413119e+00,\n",
       "       6.28859527e+00, 5.99820257e+00, 5.73006295e+00, 5.48171289e+00,\n",
       "       5.25103955e+00, 5.03622054e+00, 4.83567565e+00, 4.64802791e+00,\n",
       "       4.47207195e+00, 4.30674806e+00, 4.15112083e+00, 4.00436149e+00,\n",
       "       3.86573306e+00, 3.73457804e+00, 3.61030796e+00, 3.49239455e+00,\n",
       "       3.38036225e+00, 3.27378175e+00, 3.17226458e+00, 3.07545827e+00,\n",
       "       2.98304236e+00, 2.89472480e+00, 2.81023888e+00, 2.72934054e+00,\n",
       "       2.65180602e+00, 2.57742979e+00, 2.50602272e+00, 2.43741050e+00,\n",
       "       2.37143219e+00, 2.30793898e+00, 2.24679307e+00, 2.18786664e+00,\n",
       "       2.13104101e+00, 2.07620580e+00, 2.02325824e+00, 1.97210249e+00,\n",
       "       1.92264913e+00, 1.87481456e+00, 1.82852058e+00, 1.78369394e+00,\n",
       "       1.74026597e+00, 1.69817221e+00, 1.65735210e+00, 1.61774871e+00,\n",
       "       1.57930842e+00, 1.54198075e+00, 1.50571808e+00, 1.47047546e+00,\n",
       "       1.43621047e+00, 1.40288296e+00, 1.37045500e+00, 1.33889064e+00,\n",
       "       1.30815584e+00, 1.27821832e+00, 1.24904745e+00, 1.22061416e+00,\n",
       "       1.19289083e+00, 1.16585118e+00, 1.13947025e+00, 1.11372424e+00,\n",
       "       1.08859050e+00, 1.06404747e+00, 1.04007454e+00, 1.01665209e+00,\n",
       "       9.93761362e-01, 9.71384465e-01, 9.49504286e-01, 9.28104466e-01,\n",
       "       9.07169359e-01, 8.86683991e-01, 8.66634022e-01, 8.47005718e-01,\n",
       "       8.27785915e-01, 8.08961993e-01, 7.90521844e-01, 7.72453851e-01])"
      ]
     },
     "execution_count": 121,
     "metadata": {},
     "output_type": "execute_result"
    }
   ],
   "source": [
    "exp_mean"
   ]
  }
 ],
 "metadata": {
  "colab": {
   "collapsed_sections": [],
   "name": "Лабораторная работа №2.ipynb",
   "provenance": []
  },
  "kernelspec": {
   "display_name": "Python 3 (ipykernel)",
   "language": "python",
   "name": "python3"
  },
  "language_info": {
   "codemirror_mode": {
    "name": "ipython",
    "version": 3
   },
   "file_extension": ".py",
   "mimetype": "text/x-python",
   "name": "python",
   "nbconvert_exporter": "python",
   "pygments_lexer": "ipython3",
   "version": "3.8.5"
  }
 },
 "nbformat": 4,
 "nbformat_minor": 1
}
