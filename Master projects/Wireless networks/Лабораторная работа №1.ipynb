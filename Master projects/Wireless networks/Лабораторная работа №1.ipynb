{
 "cells": [
  {
   "cell_type": "markdown",
   "metadata": {},
   "source": [
    "### <span style=\"color:#3c2f2f;font-size:bold; float:right; \">KEYELA Patatchona, Нпммд-02-21</span>"
   ]
  },
  {
   "cell_type": "markdown",
   "metadata": {},
   "source": [
    "# Моделирование беспроводных сетей\n",
    "## Лабораторная работа № 1\n",
    "### Задание 1 \n",
    "Построить матрицу c количеством строк 10 и столбцов 2, переменные \n",
    "заполняются случайными числами с равномерным распределением. \n",
    "Полученные сгенерированные случайные числа представить на графике в \n",
    "виде точек.\n",
    "### Задание 2 \n",
    "Сгенерировать 1000 случайных чисел с любым известным распределением \n",
    "и построить их гистограмму, математическое ожидание, дисперсию.\n",
    "\n",
    "### Задание 3\n",
    "Сгенерировать случайную точку, равномерно распределенную в квадрате \n",
    "со стороной а. "
   ]
  },
  {
   "cell_type": "code",
   "execution_count": 94,
   "metadata": {},
   "outputs": [],
   "source": [
    "# We import need libraries\n",
    "import numpy as np\n",
    "import matplotlib.pyplot as plt"
   ]
  },
  {
   "cell_type": "code",
   "execution_count": 95,
   "metadata": {},
   "outputs": [
    {
     "data": {
      "text/plain": [
       "<matplotlib.collections.PathCollection at 0x1dd64239d48>"
      ]
     },
     "execution_count": 95,
     "metadata": {},
     "output_type": "execute_result"
    },
    {
     "data": {
      "image/png": "[encoded data removed]",
      "text/plain": [
       "<Figure size 432x288 with 1 Axes>"
      ]
     },
     "metadata": {
      "needs_background": "light"
     },
     "output_type": "display_data"
    }
   ],
   "source": [
    "my_2d_array = np.random.rand(10,2) # We create and fill a 2d array with uniformly distributed values in [0,1] \n",
    "plt.scatter(my_2d_array[:,0],my_2d_array[:,1]) # We plot the points"
   ]
  },
  {
   "cell_type": "code",
   "execution_count": 96,
   "metadata": {},
   "outputs": [
    {
     "name": "stdout",
     "output_type": "stream",
     "text": [
      "The mean of generated data:  5.03\n",
      "The variance of generated data:  5.1271\n"
     ]
    },
    {
     "data": {
      "image/png": "[encoded data removed]",
      "text/plain": [
       "<Figure size 432x288 with 1 Axes>"
      ]
     },
     "metadata": {
      "needs_background": "light"
     },
     "output_type": "display_data"
    }
   ],
   "source": [
    "# Задание 2\n",
    "poisson_randon_values = np.random.poisson(5.0, 1000) # Poisson distribution with paraneter lambda = 5\n",
    "plt.hist(poisson_randon_values,histtype='bar') # We draw the histogram\n",
    "print(\"The mean of generated data: \", np.mean(poisson_randon_values)) # We calculate the mean \n",
    "print(\"The variance of generated data: \", np.var(poisson_randon_values)) # Here we find the variance"
   ]
  },
  {
   "cell_type": "code",
   "execution_count": 97,
   "metadata": {},
   "outputs": [
    {
     "data": {
      "image/png": "[encoded data removed]",
      "text/plain": [
       "<Figure size 432x288 with 1 Axes>"
      ]
     },
     "metadata": {
      "needs_background": "light"
     },
     "output_type": "display_data"
    }
   ],
   "source": [
    "#Задание 3\n",
    "x_point, y_point = np.random.uniform(0,5,2)\n",
    "\n",
    "plt.axes()\n",
    "square = plt.Rectangle((0,0), 5, 5,fc='none', ec=\"red\")\n",
    "plt.gca().add_patch(square)\n",
    "plt.axis('scaled')\n",
    "plt.scatter(x_point,y_point,color='red')\n",
    "\n",
    "plt.show()\n"
   ]
  },
  {
   "cell_type": "code",
   "execution_count": null,
   "metadata": {},
   "outputs": [],
   "source": []
  }
 ],
 "metadata": {
  "kernelspec": {
   "display_name": "Python 3 (ipykernel)",
   "language": "python",
   "name": "python3"
  },
  "language_info": {
   "codemirror_mode": {
    "name": "ipython",
    "version": 3
   },
   "file_extension": ".py",
   "mimetype": "text/x-python",
   "name": "python",
   "nbconvert_exporter": "python",
   "pygments_lexer": "ipython3",
   "version": "3.8.5"
  }
 },
 "nbformat": 4,
 "nbformat_minor": 2
}
