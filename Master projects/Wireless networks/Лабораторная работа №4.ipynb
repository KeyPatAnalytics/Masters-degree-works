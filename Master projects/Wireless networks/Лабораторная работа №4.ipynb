{
 "cells": [
  {
   "cell_type": "markdown",
   "metadata": {},
   "source": [
    "### <span style=\"color:#3c2f2f;font-size:1.2em; float:right; font-family:Times New Roman\">KEYELA Patatchona, Нпммд-02-21</span>\n",
    "## <span style=\"font-family:Times New Roman\"> Лабораторная работа № 4 </span>"
   ]
  },
  {
   "cell_type": "markdown",
   "metadata": {},
   "source": [
    "# Цель: \n",
    "1. Исследование сценарий размещения пользователей на плоскости и расчет \n",
    "вероятностей блокировок прямой видимости. \n",
    "\n",
    "\n",
    "## Задание. \n",
    "Построить согласно описанному ниже алгоритму имитационную модель, \n",
    "позволяющую рассчитать вероятность блокировки линии прямой видимости, и сравнить \n",
    "полученную характеристику с результатами математической модели.\n",
    "1. В квадратной области со стороной А согласно точечному Пуассоновскому \n",
    "процессу с плотностью q разместить объекты (окружности с фиксированным \n",
    "радиусом r), которые могут заблокировать линию прямой видимости между двумя \n",
    "точками, размещенными на расстоянии x друг от друга внутри обозначенной \n",
    "области. Проверить блокирует ли хотя бы один объект линию прямой видимости.\n",
    "\n",
    "\n",
    "2. Количество блокирующих объектов определяется согласно распределению \n",
    "Пуассона с параметром qA2\n",
    ", а объекты вбрасываются независимо друг от друга. \n",
    "При этом центры блокирующих объектов должны быть распределены равномерно \n",
    "внутри рассматриваемой области.\n",
    "На основе описанного выше алгоритма получить 1000 реализаций факта блокировки \n",
    "линии прямой видимости и рассчитать вероятность блокировки линии прямой \n",
    "видимости в поле блокирующих объектов. Полученный результат сравнить с \n",
    "результатами математической модели"
   ]
  },
  {
   "cell_type": "code",
   "execution_count": 7,
   "metadata": {},
   "outputs": [],
   "source": [
    "# Needed libraries\n",
    "import numpy as np\n",
    "import matplotlib.pyplot as plt\n",
    "import scipy.stats\n",
    "from numpy.linalg import norm"
   ]
  },
  {
   "cell_type": "markdown",
   "metadata": {},
   "source": [
    "## Задание начальных значений"
   ]
  },
  {
   "cell_type": "code",
   "execution_count": 8,
   "metadata": {},
   "outputs": [],
   "source": [
    "guard_side = 10 #размер области от 0 до 10\n",
    "poisson_lam_block = 0.2 #плотность q c которой возникают блокаторы\n",
    "radius_block = 0.5 #радиус озон блокировок\n",
    "distance_TxRx = 3 #дистанция x между передатчиком и приемником"
   ]
  },
  {
   "cell_type": "markdown",
   "metadata": {},
   "source": [
    "## Рисовать круг"
   ]
  },
  {
   "cell_type": "code",
   "execution_count": 9,
   "metadata": {},
   "outputs": [],
   "source": [
    "def plot_circle(x,y,r):\n",
    "    angles=np.linspace(0,2*np.pi,50) #генерим угол\n",
    "    x_cir=x+r*np.cos(angles)    #вычисляем координаты\n",
    "    y_cir=y+r*np.sin(angles)\n",
    "    plt.plot(x_cir,y_cir,'red') #отрисовка точек\n"
   ]
  },
  {
   "cell_type": "markdown",
   "metadata": {},
   "source": [
    "## Создание точек, блокирующих объекты (задание)"
   ]
  },
  {
   "cell_type": "code",
   "execution_count": 10,
   "metadata": {},
   "outputs": [],
   "source": [
    "def poisson_point_process(par_lambda,area_side):\n",
    "    N = np.random.poisson(par_lambda * area_side**2) # количество блокаторов\n",
    "    x = np.random.uniform(0,area_side,size=N)\n",
    "    y = np.random.uniform(0,area_side,size=N)\n",
    "    return x,y\n",
    "\n",
    "x, y = poisson_point_process(poisson_lam_block,guard_side)"
   ]
  },
  {
   "cell_type": "markdown",
   "metadata": {},
   "source": [
    "## Функция для расстояния от точки до прямой:"
   ]
  },
  {
   "cell_type": "code",
   "execution_count": 33,
   "metadata": {},
   "outputs": [],
   "source": [
    "def check_distance(A, B, C):\n",
    "    CA=(C-A)/norm(C-A)\n",
    "    BA=(B-A)/norm(B-A)\n",
    "    CB=(C-B)/norm(C-B)\n",
    "    AB=(A-B)/norm(A-B)\n",
    "    \n",
    "    if np.arccos(np.dot(CA,BA))>1:\n",
    "        return norm(C-A)\n",
    "    if np.arccos(np.dot(CB,AB))>1:\n",
    "        return norm(C-B)\n",
    "    return norm(np.cross(A-B, A-C))/norm(B-A)"
   ]
  },
  {
   "cell_type": "markdown",
   "metadata": {},
   "source": [
    "## Функция для прямоугольника вокруг линии прямой видимости:"
   ]
  },
  {
   "cell_type": "code",
   "execution_count": 21,
   "metadata": {},
   "outputs": [],
   "source": [
    "def point_rectangle(x1, y1, x2, y2, angle):\n",
    "    difference_angle=2*np.pi-angle\n",
    "    reverse_angle=np.pi/2-difference_angle\n",
    "    opposite_angle=reverse_angle+np.pi\n",
    "    #координаты 4 точек прямоугольника\n",
    "    x_A=x1+radius_block*np.cos(opposite_angle)\n",
    "    y_A=y1+radius_block*np.sin(opposite_angle)\n",
    "    \n",
    "    x_B=x1+radius_block*np.cos(reverse_angle)\n",
    "    y_B=y1+radius_block*np.sin(reverse_angle)\n",
    "    \n",
    "    x_C=x2+radius_block*np.cos(reverse_angle)\n",
    "    y_C=y2+radius_block*np.sin(reverse_angle)\n",
    "    \n",
    "    x_D=x2+radius_block*np.cos(opposite_angle)\n",
    "    y_D=y2+radius_block*np.sin(opposite_angle)\n",
    "     \n",
    "    return x_A, y_A, x_B, y_B, x_C, y_C, x_D, y_D"
   ]
  },
  {
   "cell_type": "markdown",
   "metadata": {},
   "source": [
    "## Функция для определения пересечения блокаторов с линией прямой видимости:"
   ]
  },
  {
   "cell_type": "code",
   "execution_count": 29,
   "metadata": {},
   "outputs": [],
   "source": [
    "def crossing():\n",
    "    circle_point=[]\n",
    "    point1=[]\n",
    "    point2=[]\n",
    "    point1.extend([x1, y1])\n",
    "    point2.extend([x2, y2])\n",
    "    \n",
    "    for i in range(len(x)):\n",
    "        circle_point.append([x[i], y[i]])\n",
    "        \n",
    "    for i in range(len(x)):\n",
    "        if (np.round(check_distance(np.array(point1), np.array(point2), np.array(circle_point[i])), 1))<=radius_block:\n",
    "            return True"
   ]
  },
  {
   "cell_type": "markdown",
   "metadata": {},
   "source": [
    "## Координаьы передатчика и приемника"
   ]
  },
  {
   "cell_type": "code",
   "execution_count": 35,
   "metadata": {},
   "outputs": [],
   "source": [
    "# координат первой точки\n",
    "x1 = np.random.uniform(0,guard_side)\n",
    "y1 = np.random.uniform(0,guard_side)\n",
    "\n",
    "# Угол между ними\n",
    "angle = np.random.uniform(0,2*np.pi)\n",
    "\n",
    "#вычисление координат второй точки\n",
    "x2 = x1 + distance_TxRx * np.cos(angle)\n",
    "y2 = y1 + distance_TxRx * np.sin(angle)\n"
   ]
  },
  {
   "cell_type": "code",
   "execution_count": 36,
   "metadata": {},
   "outputs": [],
   "source": [
    "#координаты точек прямоугольника\n",
    "Ax,Ay,Bx,By,Cx,Cy,Dx,Dy=point_rectangle(x1,y1,x2,y2,angle)"
   ]
  },
  {
   "cell_type": "markdown",
   "metadata": {},
   "source": [
    "## Рисунок"
   ]
  },
  {
   "cell_type": "code",
   "execution_count": 37,
   "metadata": {
    "scrolled": true
   },
   "outputs": [
    {
     "data": {
      "image/png": "[encoded data removed]",
      "text/plain": [
       "<Figure size 800x800 with 1 Axes>"
      ]
     },
     "metadata": {
      "needs_background": "light"
     },
     "output_type": "display_data"
    }
   ],
   "source": [
    "plt.figure(dpi=100, figsize=(8,8))#, facecolor='#c5c6c7')\n",
    "plt.title(\"Coverage area\")\n",
    "plt.plot(x,y, '.', alpha=0.7, label=\"first\", lw=5, mec='b', mew=2, ms=10)\n",
    "\n",
    "for i in range(len(x)):\n",
    "    plot_circle(x[i], y[i], radius_block)\n",
    "plt.plot([x1,x2], [y1,y2],'.-g')\n",
    "\n",
    "plt.plot([Ax, Bx], [Ay, By],'-.b')\n",
    "plt.plot([Ax, Dx], [Ay, Dy],'-.b')\n",
    "plt.plot([Bx, Cx], [By, Cy],'-.b')\n",
    "plt.plot([Dx, Cx], [Dy, Cy],'-.b')\n",
    "\n",
    "plt.xlim(0, guard_side)\n",
    "plt.ylim(0, guard_side)\n",
    "plt.show()"
   ]
  },
  {
   "cell_type": "code",
   "execution_count": 38,
   "metadata": {},
   "outputs": [
    {
     "name": "stdout",
     "output_type": "stream",
     "text": [
      "LoS blocked\n"
     ]
    }
   ],
   "source": [
    "#события блокировки\n",
    "if (crossing()):\n",
    "    print('LoS blocked')\n",
    "else: print('LoS is not blocked')"
   ]
  },
  {
   "cell_type": "markdown",
   "metadata": {},
   "source": [
    "##  Проверка блокировки"
   ]
  },
  {
   "cell_type": "code",
   "execution_count": 39,
   "metadata": {},
   "outputs": [],
   "source": [
    "#проверка пересечения зоны блокировки\n",
    "def check_signal_blockage(xy1, xy2,c_xy,c_r):\n",
    "    x1, y1 = xy1 \n",
    "    x2, y2 = xy2 \n",
    "    x0, y0 = c_xy   #центр окружности\n",
    "    \n",
    "    k = (y2-y1)/(x2-x1) #вычисление k для уравнения прямой из двух точек\n",
    "    b1 = y1 - x1*(y2-y1)/(x2-x1) #вычисление b для уравнения прямой из двух точек\n",
    "    \n",
    "    #подставляем уравнение y=kx+b1 в (x-x0)**2+(y-y0)**=c_r**2, чтобы найти есть ли у окружности и прямой общие точки\n",
    "    #получается квадратное уравнение, решаем его, если дискриминант =>0, значит общие точки есть\n",
    "    a = k**2+1 #коэффициент a, получившегося уравнения\n",
    "    b = -2*x0+2*k*(b1-y0) #коэффициент b, получившегося уравнения\n",
    "    c = x0**2+(b1-y0)**2-c_r**2 #коэффициент c, получившегося уравнения\n",
    "    d = b**2-4*a*c #дискриминант\n",
    "    if d>=0:\n",
    "        block = True\n",
    "    else:\n",
    "        block = False\n",
    "    return block\n"
   ]
  },
  {
   "cell_type": "markdown",
   "metadata": {},
   "source": [
    "## Вероятность блокировки"
   ]
  },
  {
   "cell_type": "code",
   "execution_count": 46,
   "metadata": {},
   "outputs": [
    {
     "name": "stdout",
     "output_type": "stream",
     "text": [
      "Вероятность блокировки = 0.505\n"
     ]
    }
   ],
   "source": [
    "N=1000 #кол-во реализаций\n",
    "summa=0 #счетчик блокировок\n",
    "for i in range(N):\n",
    "    x, y=poisson_point_process(poisson_lam_block, guard_side)\n",
    "    x1=np.random.uniform(0, guard_side)\n",
    "    y1=np.random.uniform(0, guard_side)\n",
    "    angle=np.random.uniform(0,2*np.pi)\n",
    "    x2=x1-distance_TxRx*np.cos(angle)\n",
    "    y2=y1-distance_TxRx*np.sin(angle)\n",
    "    \n",
    "    if (crossing()):\n",
    "        summa+=1\n",
    "print('Вероятность блокировки =', summa/N)"
   ]
  },
  {
   "cell_type": "code",
   "execution_count": 42,
   "metadata": {},
   "outputs": [
    {
     "name": "stdout",
     "output_type": "stream",
     "text": [
      "Blocking probability-2 = 0.4511883639059736\n"
     ]
    }
   ],
   "source": [
    "#вероятность блокировки по аналитической формуле\n",
    "S=2*radius_block*distance_TxRx #площадь зоны блокирвки\n",
    "lambd=poisson_lam_block*S #среднее кол-во блокирующих объектов на ед. площади\n",
    "probability=1-np.exp(-lambd) #вероятность блокировки\n",
    "print('Blocking probability-2 =',probability)"
   ]
  },
  {
   "cell_type": "code",
   "execution_count": 51,
   "metadata": {},
   "outputs": [
    {
     "name": "stdout",
     "output_type": "stream",
     "text": [
      "количество блокировок:  831\n",
      "Доля блокировок =  0.831\n",
      "Аналитическая вероятность блокировки = 1.000\n"
     ]
    }
   ],
   "source": [
    "# НЕПРАВИЛЬНО\n",
    "\n",
    "#Иммитационное моделирвоание\n",
    "num_experiments = 1000\n",
    "summa = 0\n",
    "for i in range (num_experiments): #задаём различные точки и зоны блокировки как в предыдущем пункте задания\n",
    "    dots_x, dots_y=poisson_point_process(poisson_lam_block, guard_side)\n",
    "    x1 = np.random.uniform(0,guard_side)\n",
    "    y1 = np.random.uniform(0,guard_side)\n",
    "    angle = np.random.uniform(0,2*np.pi)\n",
    "    x2 = x1 + distance_TxRx * np.cos(angle)\n",
    "    y2 = y1 + distance_TxRx * np.sin(angle)\n",
    "    for j in range(len(dots_y)): #для всех зон блокировки проверяем условие с помощью вышеописанной функции\n",
    "        blocked = check_signal_blockage([x1,y1], [x2,y2],[dots_x[j],dots_y[j]],radius_block)\n",
    "        if blocked == True:\n",
    "            summa+=1 #если блокировка произошла - дальше считать нет смысла, выходим из цикла\n",
    "            break\n",
    "print('количество блокировок: ',summa)\n",
    "print('Доля блокировок = ', summa/num_experiments)\n",
    "\n",
    "#Вероятность блокировки по аналитической формуле из презентации\n",
    "s_zone = 2*guard_side *distance_TxRx\n",
    "lam = poisson_lam_block*s_zone\n",
    "\n",
    "p=1-np.exp(-lam)\n",
    "print('Аналитическая вероятность блокировки = %.3f'%p)"
   ]
  },
  {
   "cell_type": "markdown",
   "metadata": {},
   "source": [
    "# Вывод"
   ]
  },
  {
   "cell_type": "markdown",
   "metadata": {},
   "source": [
    "Эта работа была посвещена исследованию сценарий размещения пользователей на плоскости и расчет вероятностей блокировок прямой видимости. В ходе выполнения я построил имитационную модель, позволяющую рассчитать вероятность блокировки линии прямой видимости, и сравнил полученную характеристику с результатами математической модели. Сначала в квадратной области со стороной А согласно точечному Пуассоновскому процессу с плотностью q разместил объекты (окружности с фиксированным радиусом r), которые могут заблокировать линию прямой видимости между двумя точками, размещенными на расстоянии x друг от друга внутри обозначенной области. Дальше проверил блокирует ли хотя бы один объект линию прямой видимости.\n",
    "\n",
    "Количество блокирующих объектов определяется согласно распределению Пуассона с параметром qA2 , а объекты вбрасываются независимо друг от друга. При этом центры блокирующих объектов должны быть распределены равномерно внутри рассматриваемой области. На основе описанного я получил 1000 реализаций факта блокировки линии прямой видимости и рассчитал вероятность блокировки линии прямой видимости в поле блокирующих объектов. Полученный результат сравнил с результатами математической модели, и он чуть ниже вероятности блокировки в математической модели."
   ]
  },
  {
   "cell_type": "code",
   "execution_count": null,
   "metadata": {},
   "outputs": [],
   "source": []
  }
 ],
 "metadata": {
  "kernelspec": {
   "display_name": "Python 3",
   "language": "python",
   "name": "python3"
  },
  "language_info": {
   "codemirror_mode": {
    "name": "ipython",
    "version": 3
   },
   "file_extension": ".py",
   "mimetype": "text/x-python",
   "name": "python",
   "nbconvert_exporter": "python",
   "pygments_lexer": "ipython3",
   "version": "3.7.4"
  }
 },
 "nbformat": 4,
 "nbformat_minor": 2
}
