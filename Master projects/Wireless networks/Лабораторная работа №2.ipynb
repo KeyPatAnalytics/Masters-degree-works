{
 "cells": [
  {
   "cell_type": "markdown",
   "metadata": {},
   "source": [
    "### <span style=\"color:#3c2f2f;font-size:bold; float:right; \">KEYELA Patatchona, Нпммд-02-21</span>"
   ]
  },
  {
   "cell_type": "markdown",
   "metadata": {},
   "source": [
    "# Моделирование беспроводных сетей\n",
    "## Лабораторная работа № 2"
   ]
  },
  {
   "cell_type": "markdown",
   "metadata": {},
   "source": [
    "# Задание 1\n",
    "Сгенерировать выборку случайных чисел размером 100 и 1000 для двух\n",
    "распределений – экспоненциального и нормального. Для созданных выборок сделать\n",
    "следующее:\n",
    "1. Посчитать выборочное среднее и дисперсию, сравнить с математическим\n",
    "ожиданием соответствующих распределений;\n",
    "2. Посчитать 0.5 и 0.99 квантили, сравнить с соответствующими теоретическими\n",
    "значениями;\n",
    "3. Построить гистограмму распределения;\n",
    "4. Построить функцию распределения случайной величины на основе выборки (на\n",
    "одном графике показать функции распределения, полученные из выборок\n",
    "разного размера и теоретическую);\n",
    "5. Построить плотность распределения случайной величины на основе выборки (на\n",
    "одном графике показать плотности распределения, полученные из выборок\n",
    "разного размера и теоретическую).\n",
    "В итоге проанализировать зависимость точности аппроксимации от количества\n",
    "экспериментов"
   ]
  },
  {
   "cell_type": "code",
   "execution_count": 31,
   "metadata": {},
   "outputs": [],
   "source": [
    "# We import needed libraries\n",
    "import numpy as np\n",
    "import matplotlib.pyplot as plt\n",
    "from texttable import Texttable\n",
    "from scipy.special import erf, erfinv"
   ]
  },
  {
   "cell_type": "code",
   "execution_count": 9,
   "metadata": {},
   "outputs": [
    {
     "name": "stdout",
     "output_type": "stream",
     "text": [
      "Collecting texttable\n",
      "  Downloading https://files.pythonhosted.org/packages/75/23/8170868d04b153b1b9ed1bb84348212bb4a08f31b292ef9d7f6ea648fd49/texttable-1.6.4-py2.py3-none-any.whl\n",
      "Installing collected packages: texttable\n",
      "Successfully installed texttable-1.6.4\n"
     ]
    }
   ],
   "source": [
    "!pip install texttable # To draw tables"
   ]
  },
  {
   "cell_type": "code",
   "execution_count": 12,
   "metadata": {},
   "outputs": [
    {
     "name": "stdout",
     "output_type": "stream",
     "text": [
      "Collecting tabulate\n",
      "  Downloading https://files.pythonhosted.org/packages/ca/80/7c0cad11bd99985cfe7c09427ee0b4f9bd6b048bd13d4ffb32c6db237dfb/tabulate-0.8.9-py3-none-any.whl\n",
      "Installing collected packages: tabulate\n",
      "Successfully installed tabulate-0.8.9\n"
     ]
    }
   ],
   "source": [
    "!pip install tabulate"
   ]
  },
  {
   "cell_type": "code",
   "execution_count": 14,
   "metadata": {},
   "outputs": [
    {
     "name": "stdout",
     "output_type": "stream",
     "text": [
      "Collecting prettytable\n",
      "  Downloading https://files.pythonhosted.org/packages/bd/b5/c09f8d237e060a9e7b5d2d1577c2a6bc49fa298a7b4aefd52146f2b9a62e/prettytable-2.2.0-py3-none-any.whl\n",
      "Requirement already satisfied: importlib-metadata; python_version < \"3.8\" in c:\\users\\patat\\anaconda3\\lib\\site-packages (from prettytable) (0.23)\n",
      "Requirement already satisfied: wcwidth in c:\\users\\patat\\anaconda3\\lib\\site-packages (from prettytable) (0.1.7)\n",
      "Requirement already satisfied: zipp>=0.5 in c:\\users\\patat\\anaconda3\\lib\\site-packages (from importlib-metadata; python_version < \"3.8\"->prettytable) (0.6.0)\n",
      "Requirement already satisfied: more-itertools in c:\\users\\patat\\anaconda3\\lib\\site-packages (from zipp>=0.5->importlib-metadata; python_version < \"3.8\"->prettytable) (7.2.0)\n",
      "Installing collected packages: prettytable\n",
      "Successfully installed prettytable-2.2.0\n"
     ]
    }
   ],
   "source": [
    "!pip install prettytable"
   ]
  },
  {
   "cell_type": "code",
   "execution_count": 10,
   "metadata": {},
   "outputs": [],
   "source": []
  },
  {
   "cell_type": "code",
   "execution_count": 25,
   "metadata": {},
   "outputs": [],
   "source": [
    "exp_data_100 = np.random.exponential(scale=5, size=100) # Here scale  = 1/lambda = 5\n",
    "exp_data_1000 = np.random.exponential(scale=5, size=1000)"
   ]
  },
  {
   "cell_type": "code",
   "execution_count": 26,
   "metadata": {},
   "outputs": [],
   "source": [
    "normal_data_100 = np.random.normal(loc=0.0, scale=2.0, size=100) # Mean = 0, deviation = 2\n",
    "normal_data_1000 = np.random.normal(loc=0.0, scale=2.0, size=1000)"
   ]
  },
  {
   "cell_type": "code",
   "execution_count": 27,
   "metadata": {},
   "outputs": [],
   "source": [
    "mean_exp_data_100 = np.mean(exp_data_100)\n",
    "variance_exp_data_100 = np.var(exp_data_100)\n",
    "mean_normal_data_100 = np.mean(normal_data_100)\n",
    "variance_normal_data_100 = np.var(normal_data_100)\n",
    "\n",
    "mean_exp_data_1000 = np.mean(exp_data_1000)\n",
    "variance_exp_data_1000 = np.var(exp_data_1000)\n",
    "mean_normal_data_1000 = np.mean(normal_data_1000)\n",
    "variance_normal_data_1000 = np.var(normal_data_1000)"
   ]
  },
  {
   "cell_type": "markdown",
   "metadata": {},
   "source": [
    "### Теоретические параматры: \n",
    "1. **Экспоненциальное распределение:** $\\qquad \\mu = \\frac{1}{\\lambda} = 5\\quad$   и   $\\quad \\sigma^{2} = \\frac{1}{\\lambda^{2}} = 25 \\quad$ $\\quad Q(p) = -\\frac{ln(1-p)}{\\lambda}\\quad$\n",
    "\n",
    "\n",
    "2. **Нормальное распределение:** $\\qquad \\mu = 0 \\quad$   и   $\\quad \\sigma^{2} = 4 \\quad$ $\\quad Q(p) = \\mu + \\sigma \\sqrt{2}{erf}^{-1}(2p-1) \\quad$"
   ]
  },
  {
   "cell_type": "code",
   "execution_count": 53,
   "metadata": {},
   "outputs": [
    {
     "name": "stdout",
     "output_type": "stream",
     "text": [
      "+-------------------+-------------------+-------------------+------------------+\n",
      "|  Characteristics  |  Data set of 100  | Data set of 1000  |   Theoretical    |\n",
      "|                   |       elts        |       elts        |      values      |\n",
      "+===================+===================+===================+==================+\n",
      "| Mean Exp. dist.   | 6.100             | 4.741             | 5                |\n",
      "+-------------------+-------------------+-------------------+------------------+\n",
      "| Variance Exp.     | 46.397            | 22.512            | 25               |\n",
      "| dist.             |                   |                   |                  |\n",
      "+-------------------+-------------------+-------------------+------------------+\n",
      "| Mean normal dist. | 0.026             | 0.059             | 0                |\n",
      "+-------------------+-------------------+-------------------+------------------+\n",
      "| Variance normal   | 3.712             | 3.712             | 4                |\n",
      "| dist.             |                   |                   |                  |\n",
      "+-------------------+-------------------+-------------------+------------------+\n"
     ]
    }
   ],
   "source": [
    "characteristics = [[\"Characteristics\",\"Data set of 100 elts\", \"Data set of 1000 elts\", \"Theoretical values\"],\n",
    "                  [\"Mean Exp. dist.\",mean_exp_data_100,mean_exp_data_1000,5.0],\n",
    "                  [\"Variance Exp. dist.\",variance_exp_data_100,variance_exp_data_1000,25.0],\n",
    "                  [\"Mean normal dist.\",mean_normal_data_100,mean_normal_data_1000,0.0],\n",
    "                  [\"Variance normal dist.\",variance_normal_data_1000,variance_normal_data_1000,4.0]]\n",
    "\n",
    "table = Texttable()\n",
    "table.add_rows(characteristics)\n",
    "print(table.draw())"
   ]
  },
  {
   "cell_type": "code",
   "execution_count": 50,
   "metadata": {},
   "outputs": [],
   "source": [
    "exp_theoretical_quantile_01 = (-1)*5*np.log(1-0.1)\n",
    "exp_theoretical_quantile_099 = (-1)*5*np.log(1-0.99)\n",
    "\n",
    "normal_theoretical_quantile_01 = 0 + 2*np.sqrt(2)*erfinv(2*0.1 - 1)\n",
    "normal_theoretical_quantile_099 = 0 + 2*np.sqrt(2)*erfinv(2*0.99 - 1)"
   ]
  },
  {
   "cell_type": "code",
   "execution_count": 51,
   "metadata": {},
   "outputs": [],
   "source": [
    "exp_quantiles_100 = np.quantile(exp_data_100,[0.1,0.99])\n",
    "exp_quantiles_1000 = np.quantile(exp_data_1000,[0.1,0.99])\n",
    "normal_quantiles_100 = np.quantile(normal_data_100,[0.1,0.99])\n",
    "normal_quantiles_1000 = np.quantile(normal_data_1000,[0.1,0.99])"
   ]
  },
  {
   "cell_type": "code",
   "execution_count": 57,
   "metadata": {},
   "outputs": [
    {
     "name": "stdout",
     "output_type": "stream",
     "text": [
      "+---------------------+-------------------+--------------------+---------------+\n",
      "|      Quantiles      | Data set 100 elts | Data set 1000 elts | Theoretical Q |\n",
      "+=====================+===================+====================+===============+\n",
      "| Exp. dist. p = 0.1  | 0.778             | 0.496              | 0.527         |\n",
      "+---------------------+-------------------+--------------------+---------------+\n",
      "| Exp. dist. p = 0.99 | 36.818            | 20.032             | 23.026        |\n",
      "+---------------------+-------------------+--------------------+---------------+\n",
      "| Norm. dist. p = 0.1 | -2.406            | -2.394             | -2.563        |\n",
      "+---------------------+-------------------+--------------------+---------------+\n",
      "| Norm.dist. p = 0.99 | 4.126             | 4.362              | 4.653         |\n",
      "+---------------------+-------------------+--------------------+---------------+\n"
     ]
    }
   ],
   "source": [
    "quantiles = [[\"Quantiles\", \"Data set 100 elts\", \"Data set 1000 elts\", \"Theoretical Q\"],\n",
    "            [\"Exp. dist. p = 0.1\",exp_quantiles_100[0],exp_quantiles_1000[0],exp_theoretical_quantile_01],\n",
    "            [\"Exp. dist. p = 0.99\",exp_quantiles_100[1],exp_quantiles_1000[1],exp_theoretical_quantile_099],\n",
    "            [\"Norm. dist. p = 0.1\",normal_quantiles_100[0],normal_quantiles_1000[0],normal_theoretical_quantile_01],\n",
    "            [\"Norm.dist. p = 0.99\",normal_quantiles_100[1],normal_quantiles_1000[1],normal_theoretical_quantile_099]]\n",
    "\n",
    "quantiles_table = Texttable()\n",
    "quantiles_table.add_rows(quantiles)\n",
    "print(quantiles_table.draw())"
   ]
  },
  {
   "cell_type": "code",
   "execution_count": 58,
   "metadata": {},
   "outputs": [
    {
     "data": {
      "image/png": "[encoded data removed]",
      "text/plain": [
       "<Figure size 432x288 with 4 Axes>"
      ]
     },
     "metadata": {
      "needs_background": "light"
     },
     "output_type": "display_data"
    }
   ],
   "source": [
    "fig, axs = plt.subplots(2, 2)\n",
    "axs[0, 0].hist(exp_data_100)\n",
    "axs[0, 0].set_title(\"Exp. 100 elts\")\n",
    "\n",
    "axs[1, 0].hist(normal_data_100)\n",
    "axs[1, 0].set_title(\"Normal 100 elts\")\n",
    "\n",
    "axs[0, 1].hist(exp_data_1000)\n",
    "axs[0, 1].set_title(\"Exp. 1000 elts\")\n",
    "\n",
    "axs[1, 1].hist(normal_data_1000)\n",
    "axs[1, 1].set_title(\"Normal 1000 elts\")\n",
    "fig.tight_layout()"
   ]
  },
  {
   "cell_type": "markdown",
   "metadata": {},
   "source": [
    "### Задание 1.4"
   ]
  },
  {
   "cell_type": "code",
   "execution_count": null,
   "metadata": {},
   "outputs": [],
   "source": [
    "def exp_cdf(param_lambda, x):\n",
    "    return 1 - np.exp(-1*param_lambda*x) if x>=0 else 0"
   ]
  },
  {
   "cell_type": "code",
   "execution_count": null,
   "metadata": {},
   "outputs": [],
   "source": [
    "def exp_pdf(param_lambda, x):\n",
    "    return param_lambda * np.exp(-1*param_lambda*x) if x>=0 else 0"
   ]
  },
  {
   "cell_type": "code",
   "execution_count": null,
   "metadata": {},
   "outputs": [],
   "source": [
    "def normal_cdf(mu, sigma, x):\n",
    "    return 0.5*(1 + erf((x-mu)/(sigma*np.sqrt(2))))"
   ]
  },
  {
   "cell_type": "code",
   "execution_count": null,
   "metadata": {},
   "outputs": [],
   "source": [
    "def normal_pdf(mu, sigma, x):\n",
    "    return (np.exp(-0.5*((x-mu)/sigma)**2)) / (sigma*np.sqrt(2*np.pi))"
   ]
  },
  {
   "cell_type": "code",
   "execution_count": 61,
   "metadata": {},
   "outputs": [
    {
     "data": {
      "text/plain": [
       "8"
      ]
     },
     "execution_count": 61,
     "metadata": {},
     "output_type": "execute_result"
    }
   ],
   "source": [
    "2**3"
   ]
  },
  {
   "cell_type": "code",
   "execution_count": null,
   "metadata": {},
   "outputs": [],
   "source": [
    "exp_theor_x_100 = np.linspace(0,40,100)\n",
    "exp_theor_x_1000 = np.linspace(0,40,1000)\n",
    "exp_theor_x_100 = np.linspace(-6,6,100)\n",
    "exp_theor_x_1000 = np.linspace(-6,6,1000)"
   ]
  },
  {
   "cell_type": "code",
   "execution_count": 11,
   "metadata": {},
   "outputs": [
    {
     "name": "stdout",
     "output_type": "stream",
     "text": [
      "+--------+-----+------------+\n",
      "|  Name  | Age | University |\n",
      "+========+=====+============+\n",
      "| Hassan | 21  | LUMS       |\n",
      "+--------+-----+------------+\n",
      "| Ali    | 22  | FAST       |\n",
      "+--------+-----+------------+\n",
      "| Ahmed  | 23  | UET        |\n",
      "+--------+-----+------------+\n"
     ]
    }
   ],
   "source": [
    "l = [[\"Name\", \"Age\", \"University\"], [\"Hassan\", 21, \"LUMS\"], [\"Ali\", 22, \"FAST\"], [\"Ahmed\", 23, \"UET\"]]\n",
    "\n",
    "table = Texttable()\n",
    "table.add_rows(l)\n",
    "print(table.draw())"
   ]
  },
  {
   "cell_type": "code",
   "execution_count": 13,
   "metadata": {
    "collapsed": true
   },
   "outputs": [
    {
     "name": "stdout",
     "output_type": "stream",
     "text": [
      "| Name   |   Age | University   |\n",
      "|--------+-------+--------------|\n",
      "| Hassan |    21 | LUMS         |\n",
      "| Ali    |    22 | FAST         |\n",
      "| Ahmed  |    23 | UET          |\n"
     ]
    }
   ],
   "source": [
    "from tabulate import tabulate\n",
    "\n",
    "l = [[\"Hassan\", 21, \"LUMS\"], [\"Ali\", 22, \"FAST\"], [\"Ahmed\", 23, \"UET\"]]\n",
    "table = tabulate(l, headers=['Name', 'Age', 'University'], tablefmt='orgtbl')\n",
    "\n",
    "print(table)"
   ]
  },
  {
   "cell_type": "code",
   "execution_count": 15,
   "metadata": {
    "collapsed": true
   },
   "outputs": [
    {
     "name": "stdout",
     "output_type": "stream",
     "text": [
      "+--------+-----+------------+\n",
      "|  Name  | Age | University |\n",
      "+--------+-----+------------+\n",
      "| Hassan |  21 |    LUMS    |\n",
      "|  Ali   |  22 |    FAST    |\n",
      "| Ahmed  |  23 |    UET     |\n",
      "+--------+-----+------------+\n"
     ]
    }
   ],
   "source": [
    "from prettytable import PrettyTable\n",
    "\n",
    "l = [[\"Hassan\", 21, \"LUMS\"], [\"Ali\", 22, \"FAST\"], [\"Ahmed\", 23, \"UET\"]]\n",
    "\n",
    "table = PrettyTable(['Name', 'Age', 'University'])\n",
    "\n",
    "for rec in l:\n",
    "    table.add_row(rec)\n",
    "    \n",
    "print(table)"
   ]
  },
  {
   "cell_type": "code",
   "execution_count": 59,
   "metadata": {},
   "outputs": [],
   "source": [
    "?np.exp"
   ]
  }
 ],
 "metadata": {
  "kernelspec": {
   "display_name": "Python 3 (ipykernel)",
   "language": "python",
   "name": "python3"
  },
  "language_info": {
   "codemirror_mode": {
    "name": "ipython",
    "version": 3
   },
   "file_extension": ".py",
   "mimetype": "text/x-python",
   "name": "python",
   "nbconvert_exporter": "python",
   "pygments_lexer": "ipython3",
   "version": "3.8.5"
  }
 },
 "nbformat": 4,
 "nbformat_minor": 2
}
