{
 "cells": [
  {
   "cell_type": "markdown",
   "metadata": {},
   "source": [
    "# 1-ая лабораторная работа"
   ]
  },
  {
   "cell_type": "markdown",
   "metadata": {},
   "source": [
    "## 1 задание\n",
    "Построить матрицу c количеством строк 10 и столбцов 2, переменные заполняются случайными числами с равномерным распределением.\n",
    "Полученные сгенерированные случайные числа представить на графике в виде точек"
   ]
  },
  {
   "cell_type": "code",
   "execution_count": 1,
   "metadata": {},
   "outputs": [
    {
     "name": "stdout",
     "output_type": "stream",
     "text": [
      "matrix = \n",
      "[[0.82156965 0.47137458]\n",
      " [0.277761   0.25480469]\n",
      " [0.85219997 0.68365726]\n",
      " [0.95740687 0.33777497]\n",
      " [0.75132028 0.80478131]\n",
      " [0.77004626 0.94596811]\n",
      " [0.18191031 0.03162943]\n",
      " [0.50966273 0.79399691]\n",
      " [0.3957965  0.96525165]\n",
      " [0.54236108 0.45959376]]\n"
     ]
    },
    {
     "name": "stderr",
     "output_type": "stream",
     "text": [
      "C:\\Users\\patat\\AppData\\Local\\Temp/ipykernel_18972/3102312278.py:7: UserWarning: color is redundantly defined by the 'color' keyword argument and the fmt string \"ok\" (-> color='k'). The keyword argument will take precedence.\n",
      "  plt.plot(matrix[:,0],matrix[:,1],'ok',color='blue')\n"
     ]
    },
    {
     "data": {
      "image/png": "[encoded data removed]",
      "text/plain": [
       "<Figure size 432x288 with 1 Axes>"
      ]
     },
     "metadata": {
      "needs_background": "light"
     },
     "output_type": "display_data"
    }
   ],
   "source": [
    "import numpy as np\n",
    "import matplotlib.pyplot as plt\n",
    "matrix =np.random.uniform(size=(10,2))\n",
    "print('matrix = ')\n",
    "print(matrix)\n",
    "plt.figure()\n",
    "plt.plot(matrix[:,0],matrix[:,1],'ok',color='blue')\n",
    "plt.show()"
   ]
  },
  {
   "cell_type": "markdown",
   "metadata": {},
   "source": [
    "## 2 задание\n",
    "Сгенерировать 1000 случайных чисел с любым известным распределением и построить их гистограмму, математическое ожидание, дисперсию.\n"
   ]
  },
  {
   "cell_type": "code",
   "execution_count": 2,
   "metadata": {},
   "outputs": [
    {
     "name": "stdout",
     "output_type": "stream",
     "text": [
      "mean: 0.001364229139654923\n",
      "var: 1.0388631332595448\n"
     ]
    },
    {
     "data": {
      "image/png": "[encoded data removed]",
      "text/plain": [
       "<Figure size 432x288 with 1 Axes>"
      ]
     },
     "metadata": {
      "needs_background": "light"
     },
     "output_type": "display_data"
    }
   ],
   "source": [
    "import numpy as np\n",
    "import matplotlib.pyplot as plt\n",
    "number=np.random.normal(0, 1,1000)\n",
    "plt.hist(number,histtype='stepfilled',color='blue')\n",
    "print('mean:',np.mean(number))\n",
    "print('var:',np.var(number))"
   ]
  },
  {
   "cell_type": "markdown",
   "metadata": {},
   "source": [
    "## 3 задание\n",
    "Сгенерировать случайную точку, равномерно распределенную в квадрате со стороной а. "
   ]
  },
  {
   "cell_type": "code",
   "execution_count": 8,
   "metadata": {},
   "outputs": [
    {
     "name": "stdout",
     "output_type": "stream",
     "text": [
      "point =  [1.36857628 0.78621653]\n"
     ]
    },
    {
     "data": {
      "text/plain": [
       "[<matplotlib.lines.Line2D at 0x19176570eb0>]"
      ]
     },
     "execution_count": 8,
     "metadata": {},
     "output_type": "execute_result"
    },
    {
     "data": {
      "image/png": "[encoded data removed]",
      "text/plain": [
       "<Figure size 432x288 with 1 Axes>"
      ]
     },
     "metadata": {
      "needs_background": "light"
     },
     "output_type": "display_data"
    }
   ],
   "source": [
    "import numpy as np\n",
    "import matplotlib.pyplot as plt\n",
    "a=2\n",
    "point=np.random.uniform(0,a,size=(2))\n",
    "print('point = ',point)\n",
    "plt.figure()\n",
    "plt.ylim(0,a)\n",
    "plt.xlim(0,a)\n",
    "plt.plot(point[0],point[1],'ok',color='blue')"
   ]
  },
  {
   "cell_type": "code",
   "execution_count": null,
   "metadata": {},
   "outputs": [],
   "source": []
  }
 ],
 "metadata": {
  "kernelspec": {
   "display_name": "Python 3 (ipykernel)",
   "language": "python",
   "name": "python3"
  },
  "language_info": {
   "codemirror_mode": {
    "name": "ipython",
    "version": 3
   },
   "file_extension": ".py",
   "mimetype": "text/x-python",
   "name": "python",
   "nbconvert_exporter": "python",
   "pygments_lexer": "ipython3",
   "version": "3.8.5"
  }
 },
 "nbformat": 4,
 "nbformat_minor": 4
}
