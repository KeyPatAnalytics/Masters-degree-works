{
 "cells": [
  {
   "cell_type": "code",
   "execution_count": 17,
   "metadata": {},
   "outputs": [],
   "source": [
    "# Библиотеки\n",
    "from sympy.solvers import solve\n",
    "from sympy import Symbol, N\n",
    "\n",
    "\n",
    "def engset_model(src_N,eps,mu,v):\n",
    "    \n",
    "    ro = Symbol('ro')\n",
    "    p = [ro]\n",
    "    \n",
    "    # Система уравнений локального баланса\n",
    "    for i in range(1, src_N + 1):\n",
    "        if 1 <= i <= v:\n",
    "            p.append((src_N - i + 1) * eps * p[i-1] / (i * mu))\n",
    "        elif v+1 <= i <= src_N:\n",
    "            p.append((src_N - i + 1) * eps * p[i-1] / (v * mu))\n",
    "    \n",
    "    ro_sol = N(solve(sum(p) - 1, ro)[0]) # p_0\n",
    "    \n",
    "    # Нахождение всех вероятностей\n",
    "    p_sol = []\n",
    "    for i in range(len(p)):\n",
    "        p_sol.append(p[i].subs(ro, ro_sol))\n",
    "    \n",
    "    # Считаем параметр ламбда\n",
    "    temp_sum = 0\n",
    "    for i in range(0, src_N + 1):\n",
    "        temp_sum += p_sol[i] * (src_N - i)\n",
    "    lam = N(eps * temp_sum)\n",
    "\n",
    "    # Средняя длина очередь \n",
    "    temp_sum = 0\n",
    "    for i in range(v + 1, src_N + 1):\n",
    "        temp_sum += p_sol[i] * (i - v)\n",
    "    q = N(temp_sum)\n",
    "    \n",
    "    # Возвращаем среднее время ожидания\n",
    "    return q / lam"
   ]
  },
  {
   "cell_type": "code",
   "execution_count": 7,
   "metadata": {},
   "outputs": [
    {
     "name": "stdout",
     "output_type": "stream",
     "text": [
      "5.55000000000000\n"
     ]
    }
   ],
   "source": [
    "print(engset_model(600,4,5,20))"
   ]
  },
  {
   "cell_type": "code",
   "execution_count": 12,
   "metadata": {
    "scrolled": true
   },
   "outputs": [
    {
     "name": "stdout",
     "output_type": "stream",
     "text": [
      "53.3966480446927\n"
     ]
    }
   ],
   "source": [
    "print(engset_model(5,1.5,1,2) * 60)"
   ]
  },
  {
   "cell_type": "code",
   "execution_count": 13,
   "metadata": {
    "scrolled": true
   },
   "outputs": [
    {
     "name": "stdout",
     "output_type": "stream",
     "text": [
      "13.2515337423313\n"
     ]
    }
   ],
   "source": [
    "print(engset_model(5,1.5,1,3) * 60)"
   ]
  },
  {
   "cell_type": "code",
   "execution_count": 18,
   "metadata": {
    "scrolled": true
   },
   "outputs": [
    {
     "name": "stdout",
     "output_type": "stream",
     "text": [
      "1.94400000000000\n"
     ]
    }
   ],
   "source": [
    "print(engset_model(5,1.5,1,4) * 60)"
   ]
  },
  {
   "cell_type": "code",
   "execution_count": 16,
   "metadata": {
    "scrolled": true
   },
   "outputs": [
    {
     "name": "stdout",
     "output_type": "stream",
     "text": [
      "0\n"
     ]
    }
   ],
   "source": [
    "print(engset_model(5,1.5,1,5) * 60)"
   ]
  },
  {
   "cell_type": "code",
   "execution_count": 15,
   "metadata": {
    "scrolled": true
   },
   "outputs": [
    {
     "name": "stdout",
     "output_type": "stream",
     "text": [
      "0\n"
     ]
    }
   ],
   "source": [
    "print(engset_model(5,1.5,1,6) * 60)"
   ]
  }
 ],
 "metadata": {
  "kernelspec": {
   "display_name": "Python 3 (ipykernel)",
   "language": "python",
   "name": "python3"
  },
  "language_info": {
   "codemirror_mode": {
    "name": "ipython",
    "version": 3
   },
   "file_extension": ".py",
   "mimetype": "text/x-python",
   "name": "python",
   "nbconvert_exporter": "python",
   "pygments_lexer": "ipython3",
   "version": "3.8.5"
  }
 },
 "nbformat": 4,
 "nbformat_minor": 4
}
