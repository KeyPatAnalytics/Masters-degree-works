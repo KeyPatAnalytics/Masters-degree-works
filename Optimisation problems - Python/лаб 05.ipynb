{
 "cells": [
  {
   "cell_type": "code",
   "execution_count": 48,
   "id": "f194112e",
   "metadata": {},
   "outputs": [],
   "source": [
    "# Библиотеки\n",
    "import numpy as np\n",
    "from numpy.linalg import inv, norm\n",
    "import copy"
   ]
  },
  {
   "cell_type": "code",
   "execution_count": 49,
   "id": "da275c60",
   "metadata": {},
   "outputs": [],
   "source": [
    "# Nous definissons la fonction que le professeur a donnee\n",
    "def f(x):\n",
    "    # x1 correspond a x[0]  # x2 correspond a x[1]  # x3 correspond a x[2]\n",
    "    return (x[0]-5)**2 + (x[1]-1)**2 + (x[2]+2)**2"
   ]
  },
  {
   "cell_type": "code",
   "execution_count": 50,
   "id": "d00150fc",
   "metadata": {},
   "outputs": [],
   "source": [
    "# Nous realisons la methode de Rosenbrock (Метод Розенброка)\n",
    "def rosenbrock_method(f,n=3,x0=[0,0,0],Delta=[1,1,1],epsilon=0.2,alpha=2,beta=-0.5,M=4):\n",
    "    xk = np.array(x0)\n",
    "    Delta = np.array(Delta)\n",
    "    \n",
    "    # ШАГ 01\n",
    "    print(\"Step 01\")\n",
    "    y1 = np.array(x0)\n",
    "    i, k, m = 1, 0, 0 # i=1, k=0, m=0\n",
    "    \n",
    "    # Начальная система ортогональных направлений\n",
    "    d = []\n",
    "    for j in range(n):\n",
    "        di = np.zeros(n)\n",
    "        di[j] = 1.0\n",
    "        d.append(di)\n",
    "    \n",
    "    search_finish = False\n",
    "    \n",
    "    go_back_step02 = True # ШАГ 02 \n",
    "    while(go_back_step02 and (not search_finish )):\n",
    "        print(\"Step 02\")\n",
    "        go_to_step4 = False \n",
    "        while(not go_to_step4):\n",
    "            y = y1\n",
    "            for i in range(n):\n",
    "                if f(y + Delta[i] * d[i]) < f(y):\n",
    "                    y = y + Delta[i] * d[i]\n",
    "                    Delta[i] = alpha * Delta[i]\n",
    "                else:\n",
    "                    Delta[i] = beta * Delta[i]\n",
    "            if (f(y) < f(y1)): #ШАГ 03\n",
    "                print(\"Step 03.1\")\n",
    "                y1 = y\n",
    "                go_to_step4 = False\n",
    "            else:\n",
    "                print(\"Step 03.2\")\n",
    "                go_to_step4 = True\n",
    "\n",
    "        if(f(y) < f(xk)): # ШАГ 04\n",
    "            print(\"Step 04.1\")\n",
    "            # go to step 07\n",
    "            go_back_step02 = False\n",
    "        else: #if (f(y) == f(xk))\n",
    "            print(\"Step 04.2\")\n",
    "            m = m + 1  # ШАГ 05\n",
    "            if(m==M):# go to step 07\n",
    "                go_back_step02 = False    \n",
    "            else: #if(m<M)\n",
    "                if (np.all(np.abs(Delta)<=epsilon)): # ШАГ 06\n",
    "                    print(\"Step 06.1\")\n",
    "                    x_sol = xk\n",
    "                    # поиск завершен\n",
    "                    search_finish = True\n",
    "                else:\n",
    "                    y1 = y\n",
    "                    # go back to 02\n",
    "\n",
    "        # ШАГ 07\n",
    "        if ((not go_back_step02) and (not search_finish)):\n",
    "            next_xk = y\n",
    "            if (np.sqrt(np.sum((next_xk-xk)**2)) <= epsilon):\n",
    "                print(\"Step 07\")\n",
    "                x_sol = next_xk\n",
    "                # поиск завершен\n",
    "                search_finish = True\n",
    "            else: # ШАГ 8\n",
    "                print(\"Step 08\")\n",
    "                d_matrix = np.array(d)\n",
    "                x_diff = next_xk - xk\n",
    "                lambdas = np.dot(x_diff,d_matrix) # Найти значения ламбда (Шаг 8а)\n",
    "                \n",
    "                a = []\n",
    "                for i in range(n):\n",
    "                    ai = 1.0 * d[i]\n",
    "                    if(lambdas[i] != 0):\n",
    "                        ai = lambdas[i] * d[i]\n",
    "                        for j in range(i+1,n):\n",
    "                            ai += lambdas[j] * d[j]\n",
    "                    a.append(ai)\n",
    "                    \n",
    "                d = [a[0] / norm(a[0])] # Нормируем первый вектор \n",
    "                for i in range(1,n):\n",
    "                    # Строим ортогональный вектор\n",
    "                    bi = 1.0 * a[i]\n",
    "                    for j in range(i):\n",
    "                        bi -= np.dot(a[i],d[j]) * d[j]\n",
    "                    # Нормируем его   \n",
    "                    bi = bi / norm(bi)\n",
    "                    d.append(bi)\n",
    "                y1 = next_xk\n",
    "                xk = next_xk\n",
    "                \n",
    "                k += 1\n",
    "                m += 1\n",
    "                print(\"STEP: %d\",k)\n",
    "                go_back_step02 = True\n",
    "    return x_sol\n",
    "        "
   ]
  },
  {
   "cell_type": "code",
   "execution_count": 53,
   "id": "87bb51c2",
   "metadata": {},
   "outputs": [
    {
     "name": "stdout",
     "output_type": "stream",
     "text": [
      "Step 01\n",
      "Step 02\n",
      "Step 03.1\n",
      "Step 03.1\n",
      "Step 03.2\n",
      "Step 04.1\n",
      "Step 08\n",
      "STEP: %d 1\n",
      "Step 02\n",
      "Step 03.2\n",
      "Step 04.2\n",
      "Step 02\n",
      "Step 03.2\n",
      "Step 04.2\n",
      "Step 06.1\n"
     ]
    },
    {
     "data": {
      "text/plain": [
       "array([ 5.,  2., -1.])"
      ]
     },
     "execution_count": 53,
     "metadata": {},
     "output_type": "execute_result"
    }
   ],
   "source": [
    "rosenbrock_method(f,x0=[2,2,-1])"
   ]
  },
  {
   "cell_type": "code",
   "execution_count": null,
   "id": "84fd11dc",
   "metadata": {},
   "outputs": [],
   "source": []
  },
  {
   "cell_type": "code",
   "execution_count": null,
   "id": "7c0d13d4",
   "metadata": {},
   "outputs": [],
   "source": []
  }
 ],
 "metadata": {
  "kernelspec": {
   "display_name": "Python 3 (ipykernel)",
   "language": "python",
   "name": "python3"
  },
  "language_info": {
   "codemirror_mode": {
    "name": "ipython",
    "version": 3
   },
   "file_extension": ".py",
   "mimetype": "text/x-python",
   "name": "python",
   "nbconvert_exporter": "python",
   "pygments_lexer": "ipython3",
   "version": "3.8.5"
  }
 },
 "nbformat": 4,
 "nbformat_minor": 5
}
