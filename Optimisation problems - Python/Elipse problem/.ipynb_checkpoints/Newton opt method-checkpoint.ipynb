{
 "cells": [
  {
   "cell_type": "code",
   "execution_count": 9,
   "metadata": {},
   "outputs": [],
   "source": [
    "import numpy as np\n",
    "import matplotlib.pyplot as plt"
   ]
  },
  {
   "cell_type": "code",
   "execution_count": 5,
   "metadata": {},
   "outputs": [],
   "source": [
    "def f(x):\n",
    "    return 2*(x**2)+x+(np.cos(x))**2"
   ]
  },
  {
   "cell_type": "code",
   "execution_count": 15,
   "metadata": {},
   "outputs": [
    {
     "data": {
      "text/plain": [
       "array([-5.        , -4.8989899 , -4.7979798 , -4.6969697 , -4.5959596 ,\n",
       "       -4.49494949, -4.39393939, -4.29292929, -4.19191919, -4.09090909,\n",
       "       -3.98989899, -3.88888889, -3.78787879, -3.68686869, -3.58585859,\n",
       "       -3.48484848, -3.38383838, -3.28282828, -3.18181818, -3.08080808,\n",
       "       -2.97979798, -2.87878788, -2.77777778, -2.67676768, -2.57575758,\n",
       "       -2.47474747, -2.37373737, -2.27272727, -2.17171717, -2.07070707,\n",
       "       -1.96969697, -1.86868687, -1.76767677, -1.66666667, -1.56565657,\n",
       "       -1.46464646, -1.36363636, -1.26262626, -1.16161616, -1.06060606,\n",
       "       -0.95959596, -0.85858586, -0.75757576, -0.65656566, -0.55555556,\n",
       "       -0.45454545, -0.35353535, -0.25252525, -0.15151515, -0.05050505,\n",
       "        0.05050505,  0.15151515,  0.25252525,  0.35353535,  0.45454545,\n",
       "        0.55555556,  0.65656566,  0.75757576,  0.85858586,  0.95959596,\n",
       "        1.06060606,  1.16161616,  1.26262626,  1.36363636,  1.46464646,\n",
       "        1.56565657,  1.66666667,  1.76767677,  1.86868687,  1.96969697,\n",
       "        2.07070707,  2.17171717,  2.27272727,  2.37373737,  2.47474747,\n",
       "        2.57575758,  2.67676768,  2.77777778,  2.87878788,  2.97979798,\n",
       "        3.08080808,  3.18181818,  3.28282828,  3.38383838,  3.48484848,\n",
       "        3.58585859,  3.68686869,  3.78787879,  3.88888889,  3.98989899,\n",
       "        4.09090909,  4.19191919,  4.29292929,  4.39393939,  4.49494949,\n",
       "        4.5959596 ,  4.6969697 ,  4.7979798 ,  4.8989899 ,  5.        ])"
      ]
     },
     "execution_count": 15,
     "metadata": {},
     "output_type": "execute_result"
    }
   ],
   "source": [
    "x = np.linspace(-5,5,100)\n",
    "x"
   ]
  },
  {
   "cell_type": "code",
   "execution_count": 11,
   "metadata": {},
   "outputs": [
    {
     "data": {
      "text/plain": [
       "[<matplotlib.lines.Line2D at 0x284edff9848>]"
      ]
     },
     "execution_count": 11,
     "metadata": {},
     "output_type": "execute_result"
    },
    {
     "data": {
      "image/png": "[encoded data removed]",
      "text/plain": [
       "<Figure size 432x288 with 1 Axes>"
      ]
     },
     "metadata": {
      "needs_background": "light"
     },
     "output_type": "display_data"
    }
   ],
   "source": [
    "plt.plot(x,f(x))"
   ]
  },
  {
   "cell_type": "code",
   "execution_count": 18,
   "metadata": {},
   "outputs": [],
   "source": [
    "def opt_newton(f,x0=0,eps=1e-4):\n",
    "    x = x0\n",
    "    \n",
    "    h = 0.0001 # прирашение дифференцирования\n",
    "    df = (f(x+h) - f(x))/h # первая производная\n",
    "    d2f = (f(x+2*h) + f(x) -2*f(x+h)) / h**2 #вторая производная\n",
    "        \n",
    "    i = 1\n",
    "    while np.abs(df)> eps :\n",
    "        print(\"Iteration: \",i,\" derivative: \",df)\n",
    "        x = x - df/d2f\n",
    "        \n",
    "        df = (f(x+h) - f(x))/h # первая производная\n",
    "        d2f = (f(x+2*h) + f(x) -2*f(x+h)) / h**2 #вторая производная\n",
    "        \n",
    "        i += 1\n",
    "        \n",
    "    print(\"argmin_f(x): \",x,\" min_f(x): \",f(x))"
   ]
  },
  {
   "cell_type": "code",
   "execution_count": 19,
   "metadata": {},
   "outputs": [
    {
     "name": "stdout",
     "output_type": "stream",
     "text": [
      "Iteration:  1  derivative:  1.0010000003333186\n",
      "Iteration:  2  derivative:  -0.15852574681629594\n",
      "Iteration:  3  derivative:  -0.004756265196581566\n",
      "argmin_f(x):  -0.44443178186282445  min_f(x):  0.7657547918299394\n"
     ]
    }
   ],
   "source": [
    "opt_newton(f)"
   ]
  },
  {
   "cell_type": "code",
   "execution_count": 20,
   "metadata": {},
   "outputs": [
    {
     "name": "stdout",
     "output_type": "stream",
     "text": [
      "Iteration:  1  derivative:  40.08864727597938\n",
      "Iteration:  2  derivative:  -10.210086872735502\n",
      "Iteration:  3  derivative:  2.69116513916412\n",
      "Iteration:  4  derivative:  0.8042868156159511\n",
      "Iteration:  5  derivative:  -0.1353424493459876\n",
      "Iteration:  6  derivative:  -0.0034938206643353453\n",
      "argmin_f(x):  -0.4444312574121929  min_f(x):  0.765754791111206\n"
     ]
    }
   ],
   "source": [
    "opt_newton(f,x0=10)"
   ]
  },
  {
   "cell_type": "code",
   "execution_count": 21,
   "metadata": {},
   "outputs": [
    {
     "name": "stdout",
     "output_type": "stream",
     "text": [
      "Iteration:  1  derivative:  -399.87178390219924\n",
      "Iteration:  2  derivative:  128.1104815316212\n",
      "Iteration:  3  derivative:  -27.670960074019035\n",
      "Iteration:  4  derivative:  -7.709992476748084\n",
      "Iteration:  5  derivative:  -0.29671441106882135\n",
      "Iteration:  6  derivative:  -0.01573467216631208\n",
      "argmin_f(x):  -0.44444640281853126  min_f(x):  0.765754812170536\n"
     ]
    }
   ],
   "source": [
    "opt_newton(f,x0=-100)"
   ]
  }
 ],
 "metadata": {
  "kernelspec": {
   "display_name": "Python 3 (ipykernel)",
   "language": "python",
   "name": "python3"
  },
  "language_info": {
   "codemirror_mode": {
    "name": "ipython",
    "version": 3
   },
   "file_extension": ".py",
   "mimetype": "text/x-python",
   "name": "python",
   "nbconvert_exporter": "python",
   "pygments_lexer": "ipython3",
   "version": "3.8.5"
  }
 },
 "nbformat": 4,
 "nbformat_minor": 2
}
