{
 "cells": [
  {
   "cell_type": "code",
   "execution_count": 1,
   "metadata": {},
   "outputs": [],
   "source": [
    "import numpy as np"
   ]
  },
  {
   "cell_type": "markdown",
   "metadata": {},
   "source": [
    "Нам задали функцию $f(x) = e^x -\\frac{1}{3}x^3 + 2x$ и отрезок $[a,b] = [-1.5,-1]$ и нужно найти $min$ $f(x)$ на этом отрезке.\n",
    "\n",
    "Мы берём $N>0$, $eps>0 (eps = 0,01)$ и через N шагов находим: \n",
    "$$x_1 = \\frac{a+b}{2} - eps$$ , $$x_2 = \\frac{a+b}{2}  + eps$$ \n",
    "\n",
    "Затем мы сравниваем $f(x_1)$ с $f(x_2)$. \n",
    "\n",
    "Если $f(x_1)$ < $f(x_2)$, то мы повторяем процесс на $[a, x_2]$, иначе мы его повторяем на $[x_1, b]$"
   ]
  },
  {
   "cell_type": "code",
   "execution_count": 3,
   "metadata": {},
   "outputs": [],
   "source": [
    "def f(x): # Наша функция\n",
    "    return np.exp(x) - x**3 / 3 + 2*x"
   ]
  },
  {
   "cell_type": "code",
   "execution_count": 6,
   "metadata": {},
   "outputs": [],
   "source": [
    "def optimisation_method(f,a,b):\n",
    "    eps=0.01 # точность epsilon\n",
    "    N=1000 # Зададим количество итераций\n",
    "    for i in range (N): # повтораяем\n",
    "        x1=(a+b)/2-eps # точка слева от середины\n",
    "        x2=(a+b)/2+eps # точка справа от середины\n",
    "\n",
    "        if f(x1)<f(x2) : \n",
    "            b=x2 # [a, x2]\n",
    "        else: \n",
    "            a=x1 # [x1 b]\n",
    "            \n",
    "            \n",
    "    x_min = (a+b)/2 # Считаем точка минимума\n",
    "    f_min = f(x_min) # значением min f(x)\n",
    "    return x_min, f_min "
   ]
  },
  {
   "cell_type": "code",
   "execution_count": 7,
   "metadata": {},
   "outputs": [
    {
     "data": {
      "text/plain": [
       "(-1.4899999999999998, -1.6519776777938946)"
      ]
     },
     "execution_count": 7,
     "metadata": {},
     "output_type": "execute_result"
    }
   ],
   "source": [
    "optimisation_method(f,a=-1.5,b=-1)"
   ]
  },
  {
   "cell_type": "markdown",
   "metadata": {},
   "source": [
    "It is not part of the exercise but we can to see how the graphic of our function looks like"
   ]
  },
  {
   "cell_type": "code",
   "execution_count": 8,
   "metadata": {},
   "outputs": [],
   "source": [
    "import matplotlib.pyplot as plt"
   ]
  },
  {
   "cell_type": "code",
   "execution_count": 11,
   "metadata": {},
   "outputs": [
    {
     "data": {
      "text/plain": [
       "[<matplotlib.lines.Line2D at 0x2d3dcf5f6c8>]"
      ]
     },
     "execution_count": 11,
     "metadata": {},
     "output_type": "execute_result"
    },
    {
     "data": {
      "image/png": "[encoded data removed]",
      "text/plain": [
       "<Figure size 432x288 with 1 Axes>"
      ]
     },
     "metadata": {
      "needs_background": "light"
     },
     "output_type": "display_data"
    }
   ],
   "source": [
    "x = np.linspace(-2.5,0,200)\n",
    "plt.plot(x,f(x))"
   ]
  },
  {
   "cell_type": "code",
   "execution_count": null,
   "metadata": {},
   "outputs": [],
   "source": []
  }
 ],
 "metadata": {
  "kernelspec": {
   "display_name": "Python 3 (ipykernel)",
   "language": "python",
   "name": "python3"
  },
  "language_info": {
   "codemirror_mode": {
    "name": "ipython",
    "version": 3
   },
   "file_extension": ".py",
   "mimetype": "text/x-python",
   "name": "python",
   "nbconvert_exporter": "python",
   "pygments_lexer": "ipython3",
   "version": "3.8.5"
  }
 },
 "nbformat": 4,
 "nbformat_minor": 2
}
